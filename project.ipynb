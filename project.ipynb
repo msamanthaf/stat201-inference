{
 "cells": [
  {
   "cell_type": "markdown",
   "id": "ed437fcf-6b0a-46d9-aab1-1156aff3a548",
   "metadata": {
    "tags": []
   },
   "source": [
    "# Stat 201 Project Proposal: "
   ]
  },
  {
   "cell_type": "code",
   "execution_count": 16,
   "id": "cfb88100-f5ea-489d-ac38-030a9c8906a8",
   "metadata": {
    "tags": []
   },
   "outputs": [],
   "source": [
    "library(tidyverse)\n",
    "library(repr)\n",
    "library(datateachr)\n",
    "library(digest)\n",
    "library(infer)\n",
    "library(gridExtra)\n",
    "library(cowplot)"
   ]
  },
  {
   "cell_type": "code",
   "execution_count": 17,
   "id": "461e8cac-f385-4402-94c3-b590e5be5d11",
   "metadata": {
    "tags": []
   },
   "outputs": [],
   "source": [
    "suicide <- read.csv(\"SuicideChina.csv\", sep = \",\", header = TRUE)"
   ]
  },
  {
   "cell_type": "code",
   "execution_count": 18,
   "id": "80d6e0a2-1814-4a99-a9a4-1f383b562181",
   "metadata": {
    "tags": []
   },
   "outputs": [
    {
     "data": {
      "text/html": [
       "<table class=\"dataframe\">\n",
       "<caption>A data.frame: 6 × 12</caption>\n",
       "<thead>\n",
       "\t<tr><th></th><th scope=col>X</th><th scope=col>Person_ID</th><th scope=col>Hospitalised</th><th scope=col>Died</th><th scope=col>Urban</th><th scope=col>Year</th><th scope=col>Month</th><th scope=col>Sex</th><th scope=col>Age</th><th scope=col>Education</th><th scope=col>Occupation</th><th scope=col>method</th></tr>\n",
       "\t<tr><th></th><th scope=col>&lt;int&gt;</th><th scope=col>&lt;int&gt;</th><th scope=col>&lt;chr&gt;</th><th scope=col>&lt;chr&gt;</th><th scope=col>&lt;chr&gt;</th><th scope=col>&lt;int&gt;</th><th scope=col>&lt;int&gt;</th><th scope=col>&lt;chr&gt;</th><th scope=col>&lt;int&gt;</th><th scope=col>&lt;chr&gt;</th><th scope=col>&lt;chr&gt;</th><th scope=col>&lt;chr&gt;</th></tr>\n",
       "</thead>\n",
       "<tbody>\n",
       "\t<tr><th scope=row>1</th><td>1</td><td>1</td><td>yes</td><td>no </td><td>no</td><td>2010</td><td>12</td><td>female</td><td>39</td><td>Secondary</td><td>household</td><td>Other poison</td></tr>\n",
       "\t<tr><th scope=row>2</th><td>2</td><td>2</td><td>no </td><td>yes</td><td>no</td><td>2009</td><td> 3</td><td>male  </td><td>83</td><td>primary  </td><td>farming  </td><td>Hanging     </td></tr>\n",
       "\t<tr><th scope=row>3</th><td>3</td><td>3</td><td>no </td><td>yes</td><td>no</td><td>2010</td><td> 2</td><td>male  </td><td>60</td><td>primary  </td><td>farming  </td><td>Hanging     </td></tr>\n",
       "\t<tr><th scope=row>4</th><td>4</td><td>4</td><td>no </td><td>yes</td><td>no</td><td>2011</td><td> 1</td><td>male  </td><td>73</td><td>primary  </td><td>farming  </td><td>Hanging     </td></tr>\n",
       "\t<tr><th scope=row>5</th><td>5</td><td>5</td><td>yes</td><td>no </td><td>no</td><td>2009</td><td> 8</td><td>male  </td><td>51</td><td>Secondary</td><td>farming  </td><td>Pesticide   </td></tr>\n",
       "\t<tr><th scope=row>6</th><td>6</td><td>6</td><td>no </td><td>yes</td><td>no</td><td>2009</td><td>11</td><td>male  </td><td>62</td><td>iliterate</td><td>farming  </td><td>Pesticide   </td></tr>\n",
       "</tbody>\n",
       "</table>\n"
      ],
      "text/latex": [
       "A data.frame: 6 × 12\n",
       "\\begin{tabular}{r|llllllllllll}\n",
       "  & X & Person\\_ID & Hospitalised & Died & Urban & Year & Month & Sex & Age & Education & Occupation & method\\\\\n",
       "  & <int> & <int> & <chr> & <chr> & <chr> & <int> & <int> & <chr> & <int> & <chr> & <chr> & <chr>\\\\\n",
       "\\hline\n",
       "\t1 & 1 & 1 & yes & no  & no & 2010 & 12 & female & 39 & Secondary & household & Other poison\\\\\n",
       "\t2 & 2 & 2 & no  & yes & no & 2009 &  3 & male   & 83 & primary   & farming   & Hanging     \\\\\n",
       "\t3 & 3 & 3 & no  & yes & no & 2010 &  2 & male   & 60 & primary   & farming   & Hanging     \\\\\n",
       "\t4 & 4 & 4 & no  & yes & no & 2011 &  1 & male   & 73 & primary   & farming   & Hanging     \\\\\n",
       "\t5 & 5 & 5 & yes & no  & no & 2009 &  8 & male   & 51 & Secondary & farming   & Pesticide   \\\\\n",
       "\t6 & 6 & 6 & no  & yes & no & 2009 & 11 & male   & 62 & iliterate & farming   & Pesticide   \\\\\n",
       "\\end{tabular}\n"
      ],
      "text/markdown": [
       "\n",
       "A data.frame: 6 × 12\n",
       "\n",
       "| <!--/--> | X &lt;int&gt; | Person_ID &lt;int&gt; | Hospitalised &lt;chr&gt; | Died &lt;chr&gt; | Urban &lt;chr&gt; | Year &lt;int&gt; | Month &lt;int&gt; | Sex &lt;chr&gt; | Age &lt;int&gt; | Education &lt;chr&gt; | Occupation &lt;chr&gt; | method &lt;chr&gt; |\n",
       "|---|---|---|---|---|---|---|---|---|---|---|---|---|\n",
       "| 1 | 1 | 1 | yes | no  | no | 2010 | 12 | female | 39 | Secondary | household | Other poison |\n",
       "| 2 | 2 | 2 | no  | yes | no | 2009 |  3 | male   | 83 | primary   | farming   | Hanging      |\n",
       "| 3 | 3 | 3 | no  | yes | no | 2010 |  2 | male   | 60 | primary   | farming   | Hanging      |\n",
       "| 4 | 4 | 4 | no  | yes | no | 2011 |  1 | male   | 73 | primary   | farming   | Hanging      |\n",
       "| 5 | 5 | 5 | yes | no  | no | 2009 |  8 | male   | 51 | Secondary | farming   | Pesticide    |\n",
       "| 6 | 6 | 6 | no  | yes | no | 2009 | 11 | male   | 62 | iliterate | farming   | Pesticide    |\n",
       "\n"
      ],
      "text/plain": [
       "  X Person_ID Hospitalised Died Urban Year Month Sex    Age Education\n",
       "1 1 1         yes          no   no    2010 12    female 39  Secondary\n",
       "2 2 2         no           yes  no    2009  3    male   83  primary  \n",
       "3 3 3         no           yes  no    2010  2    male   60  primary  \n",
       "4 4 4         no           yes  no    2011  1    male   73  primary  \n",
       "5 5 5         yes          no   no    2009  8    male   51  Secondary\n",
       "6 6 6         no           yes  no    2009 11    male   62  iliterate\n",
       "  Occupation method      \n",
       "1 household  Other poison\n",
       "2 farming    Hanging     \n",
       "3 farming    Hanging     \n",
       "4 farming    Hanging     \n",
       "5 farming    Pesticide   \n",
       "6 farming    Pesticide   "
      ]
     },
     "metadata": {},
     "output_type": "display_data"
    }
   ],
   "source": [
    "head(suicide)"
   ]
  },
  {
   "cell_type": "code",
   "execution_count": null,
   "id": "c0785b72-4f8f-4294-890b-675c1074df4f",
   "metadata": {},
   "outputs": [],
   "source": []
  }
 ],
 "metadata": {
  "kernelspec": {
   "display_name": "R",
   "language": "R",
   "name": "ir"
  },
  "language_info": {
   "codemirror_mode": "r",
   "file_extension": ".r",
   "mimetype": "text/x-r-source",
   "name": "R",
   "pygments_lexer": "r",
   "version": "4.2.3"
  }
 },
 "nbformat": 4,
 "nbformat_minor": 5
}
