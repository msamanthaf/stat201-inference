{
 "cells": [
  {
   "cell_type": "markdown",
   "id": "b8ea7770-c172-451c-967a-3173f79cb843",
   "metadata": {
    "tags": []
   },
   "source": [
    "### Project Proposal STAT 201 Group 4\n",
    "# Proportion Inference of Suicide Attempts in Shangdong, China using Bootstrapping"
   ]
  },
  {
   "attachments": {
    "pesticide-illustration.jpg": {
     "image/jpeg": "[encoded data removed]"
    }
   },
   "cell_type": "markdown",
   "id": "d27c8a48",
   "metadata": {},
   "source": [
    "![pesticide-illustration.jpg](attachment:pesticide-illustration.jpg)"
   ]
  },
  {
   "cell_type": "markdown",
   "id": "137c620f-9179-4a4f-9a0d-6bc14e95690e",
   "metadata": {
    "tags": []
   },
   "source": [
    "### Group 4: Eric Wei, Laksh Agarwal, Marie Samantha Fidelia, Yiting Sun"
   ]
  },
  {
   "cell_type": "markdown",
   "id": "e2b2a540-8493-4fd4-b315-74789265bc2d",
   "metadata": {
    "tags": []
   },
   "source": [
    "Dataset used:\n",
    "https://www.kaggle.com/datasets/utkarshx27/suicide-attempts-in-shandong-china"
   ]
  },
  {
   "cell_type": "markdown",
   "id": "86f0025b-9dc4-4cf2-98da-390c87a200d4",
   "metadata": {
    "tags": []
   },
   "source": [
    "## Introduction"
   ]
  },
  {
   "cell_type": "markdown",
   "id": "b7a3dae5",
   "metadata": {},
   "source": [
    "In recent years, suicide has become a worldwide public health concern with far-reaching consequences for individuals, community and even the entire society. After accounting for changes in population size and age demographics, there has been a 16% increase in the suicide rate between 2011 and 2022, resulting in an elevation from 12.3 to 14.4 fatalities per 100,000 individuals (Saunders & Panchal, 2023). Therefore, it is important to learn about the factors, triggers, and patterns related to suicide attempts so that they can be prevented effectively. In this project, we will focus on the effect of education levels on suicide risks and compare the proportion of suicide rates between primary and secondary education levels for females. A similar reserch has been done and demonstrated that “Men with a high school education were twice as likely to die by suicide compared with those with a college degree in 2014” (Phillips & Hempstead, 2017); however, we want to examine whether the same pattern will also apply to females.\n",
    "\n",
    "The data set we choose is “Suicide Attempts in Shandong, China” from Kaggle. This data set records the information of suicide victims such as their gender, age, education levels, occupations, and suicide methods from 2009 to 2011 in Shandong, China. We will focus on the coloums of Sex and Education. The local parameter of interest is the difference in proportion of suicide rate between two categoris of primary and secondary education level. We will calculate the standard deviation to investigate the sample variation.\n",
    "\n",
    "#### Research Question: Is there a difference between the proportion of the suicide rates of women with primary and secondary education levels?  If so, what proportion of women in Shangdong, corresponding to the education level with the higher suicide rate, has attempted suicide?\n",
    "\n",
    "Null hypothesis: $\\widehat{p_{primary}} - \\widehat{p_{secondary}} = 0$\n",
    "\n",
    "Alternative hypothesis: $\\widehat{p_{primary}} - \\widehat{p_{secondary}} > 0$"
   ]
  },
  {
   "cell_type": "markdown",
   "id": "04053b0d-c976-403e-9074-38cc55f35f09",
   "metadata": {
    "tags": []
   },
   "source": [
    "## Preliminary Results"
   ]
  },
  {
   "cell_type": "markdown",
   "id": "7e509511",
   "metadata": {},
   "source": [
    "In this section, you will:\n",
    "\n",
    "Demonstrate that the dataset can be read from the web into R.\n",
    "Clean and wrangle your data into a tidy format.\n",
    "Plot the relevant raw data, tailoring your plot in a way that addresses your question.\n",
    "Compute estimates of the parameter you identified across your groups. Present this in a table. If relevant, include these estimates in your plot.\n",
    "Be sure to not print output that takes up a lot of screen space."
   ]
  },
  {
   "cell_type": "markdown",
   "id": "c20ea57d",
   "metadata": {},
   "source": [
    "### Reading Our Dataset\n",
    "\n",
    "We can start by importing the necessary libraries for our modelling"
   ]
  },
  {
   "cell_type": "code",
   "execution_count": 1,
   "id": "34c4404b",
   "metadata": {
    "tags": [],
    "vscode": {
     "languageId": "r"
    }
   },
   "outputs": [
    {
     "name": "stderr",
     "output_type": "stream",
     "text": [
      "── \u001b[1mAttaching packages\u001b[22m ─────────────────────────────────────── tidyverse 1.3.2 ──\n",
      "\u001b[32m✔\u001b[39m \u001b[34mggplot2\u001b[39m 3.3.6     \u001b[32m✔\u001b[39m \u001b[34mpurrr  \u001b[39m 0.3.4\n",
      "\u001b[32m✔\u001b[39m \u001b[34mtibble \u001b[39m 3.1.8     \u001b[32m✔\u001b[39m \u001b[34mdplyr  \u001b[39m 1.0.9\n",
      "\u001b[32m✔\u001b[39m \u001b[34mtidyr  \u001b[39m 1.2.0     \u001b[32m✔\u001b[39m \u001b[34mstringr\u001b[39m 1.4.1\n",
      "\u001b[32m✔\u001b[39m \u001b[34mreadr  \u001b[39m 2.1.2     \u001b[32m✔\u001b[39m \u001b[34mforcats\u001b[39m 0.5.2\n",
      "── \u001b[1mConflicts\u001b[22m ────────────────────────────────────────── tidyverse_conflicts() ──\n",
      "\u001b[31m✖\u001b[39m \u001b[34mdplyr\u001b[39m::\u001b[32mfilter()\u001b[39m masks \u001b[34mstats\u001b[39m::filter()\n",
      "\u001b[31m✖\u001b[39m \u001b[34mdplyr\u001b[39m::\u001b[32mlag()\u001b[39m    masks \u001b[34mstats\u001b[39m::lag()\n"
     ]
    }
   ],
   "source": [
    "library(tidyverse)"
   ]
  },
  {
   "cell_type": "markdown",
   "id": "63c4fbd5",
   "metadata": {},
   "source": [
    "Let's read the chosen csv data with its column names into R "
   ]
  },
  {
   "cell_type": "code",
   "execution_count": 2,
   "id": "e60eca2b",
   "metadata": {
    "tags": [],
    "vscode": {
     "languageId": "r"
    }
   },
   "outputs": [
    {
     "name": "stderr",
     "output_type": "stream",
     "text": [
      "\u001b[1mRows: \u001b[22m\u001b[34m2571\u001b[39m \u001b[1mColumns: \u001b[22m\u001b[34m12\u001b[39m\n",
      "\u001b[36m──\u001b[39m \u001b[1mColumn specification\u001b[22m \u001b[36m────────────────────────────────────────────────────────\u001b[39m\n",
      "\u001b[1mDelimiter:\u001b[22m \",\"\n",
      "\u001b[31mchr\u001b[39m (7): Hospitalised, Died, Urban, Sex, Education, Occupation, method\n",
      "\u001b[32mdbl\u001b[39m (5): Number, Person_ID, Year, Month, Age\n",
      "\n",
      "\u001b[36mℹ\u001b[39m Use `spec()` to retrieve the full column specification for this data.\n",
      "\u001b[36mℹ\u001b[39m Specify the column types or set `show_col_types = FALSE` to quiet this message.\n"
     ]
    },
    {
     "name": "stdout",
     "output_type": "stream",
     "text": [
      "Rows: 2,571\n",
      "Columns: 11\n",
      "$ Person_ID    \u001b[3m\u001b[90m<dbl>\u001b[39m\u001b[23m 1, 2, 3, 4, 5, 6, 7, 8, 9, 10, 11, 12, 13, 14, 15, 16, 17…\n",
      "$ Hospitalised \u001b[3m\u001b[90m<chr>\u001b[39m\u001b[23m \"yes\", \"no\", \"no\", \"no\", \"yes\", \"no\", \"no\", \"yes\", \"no\", …\n",
      "$ Died         \u001b[3m\u001b[90m<chr>\u001b[39m\u001b[23m \"no\", \"yes\", \"yes\", \"yes\", \"no\", \"yes\", \"yes\", \"no\", \"yes…\n",
      "$ Urban        \u001b[3m\u001b[90m<chr>\u001b[39m\u001b[23m \"no\", \"no\", \"no\", \"no\", \"no\", \"no\", \"no\", \"no\", \"no\", \"no…\n",
      "$ Year         \u001b[3m\u001b[90m<dbl>\u001b[39m\u001b[23m 2010, 2009, 2010, 2011, 2009, 2009, 2010, 2010, 2010, 201…\n",
      "$ Month        \u001b[3m\u001b[90m<dbl>\u001b[39m\u001b[23m 12, 3, 2, 1, 8, 11, 1, 10, 7, 1, 11, 3, 6, 1, 12, 2, 6, 5…\n",
      "$ Sex          \u001b[3m\u001b[90m<chr>\u001b[39m\u001b[23m \"female\", \"male\", \"male\", \"male\", \"male\", \"male\", \"female…\n",
      "$ Age          \u001b[3m\u001b[90m<dbl>\u001b[39m\u001b[23m 39, 83, 60, 73, 51, 62, 90, 54, 66, 30, 77, 77, 79, 42, 6…\n",
      "$ Education    \u001b[3m\u001b[90m<chr>\u001b[39m\u001b[23m \"Secondary\", \"primary\", \"primary\", \"primary\", \"Secondary\"…\n",
      "$ Occupation   \u001b[3m\u001b[90m<chr>\u001b[39m\u001b[23m \"household\", \"farming\", \"farming\", \"farming\", \"farming\", …\n",
      "$ method       \u001b[3m\u001b[90m<chr>\u001b[39m\u001b[23m \"Other poison\", \"Hanging\", \"Hanging\", \"Hanging\", \"Pestici…\n"
     ]
    }
   ],
   "source": [
    "suicide_data <- read_csv(\"https://docs.google.com/spreadsheets/d/e/2PACX-1vS0cVcc1RNtcHpY9CnuzkvM_auEuA5HloYBi9MEciadHj4R3uNXNt7ORJwHSJjod85rHzIyigMmVIGy/pub?gid=1118541132&single=true&output=csv\", col_names = TRUE) |>\n",
    "                select(-Number)\n",
    "\n",
    "glimpse(suicide_data)"
   ]
  },
  {
   "cell_type": "markdown",
   "id": "9e6cb3d9",
   "metadata": {},
   "source": [
    "### Cleaning and Wrangling Data Into Tidy Format"
   ]
  },
  {
   "cell_type": "code",
   "execution_count": 3,
   "id": "e83af2b9",
   "metadata": {
    "tags": [],
    "vscode": {
     "languageId": "r"
    }
   },
   "outputs": [
    {
     "data": {
      "text/html": [
       "<table class=\"dataframe\">\n",
       "<caption>A tibble: 1 × 1</caption>\n",
       "<thead>\n",
       "\t<tr><th scope=col>n</th></tr>\n",
       "\t<tr><th scope=col>&lt;int&gt;</th></tr>\n",
       "</thead>\n",
       "<tbody>\n",
       "\t<tr><td>80</td></tr>\n",
       "</tbody>\n",
       "</table>\n"
      ],
      "text/latex": [
       "A tibble: 1 × 1\n",
       "\\begin{tabular}{l}\n",
       " n\\\\\n",
       " <int>\\\\\n",
       "\\hline\n",
       "\t 80\\\\\n",
       "\\end{tabular}\n"
      ],
      "text/markdown": [
       "\n",
       "A tibble: 1 × 1\n",
       "\n",
       "| n &lt;int&gt; |\n",
       "|---|\n",
       "| 80 |\n",
       "\n"
      ],
      "text/plain": [
       "  n \n",
       "1 80"
      ]
     },
     "metadata": {},
     "output_type": "display_data"
    }
   ],
   "source": [
    "missing <- filter(suicide_data, Education == \"unknown\") |>\n",
    "           summarize(n = n())\n",
    "missing"
   ]
  },
  {
   "cell_type": "markdown",
   "id": "ae51f6d9",
   "metadata": {},
   "source": [
    "The tibble above shows that 80 rows are found to be having missing values of education."
   ]
  },
  {
   "cell_type": "markdown",
   "id": "34760bb1",
   "metadata": {},
   "source": [
    "Let's select the columns we need and then make sure that we filter out any missing values contained in our data"
   ]
  },
  {
   "cell_type": "code",
   "execution_count": 4,
   "id": "428438c9",
   "metadata": {
    "tags": [],
    "vscode": {
     "languageId": "r"
    }
   },
   "outputs": [
    {
     "data": {
      "text/html": [
       "<table class=\"dataframe\">\n",
       "<caption>A tibble: 6 × 2</caption>\n",
       "<thead>\n",
       "\t<tr><th scope=col>Sex</th><th scope=col>Education</th></tr>\n",
       "\t<tr><th scope=col>&lt;chr&gt;</th><th scope=col>&lt;chr&gt;</th></tr>\n",
       "</thead>\n",
       "<tbody>\n",
       "\t<tr><td>female</td><td>Secondary</td></tr>\n",
       "\t<tr><td>male  </td><td>primary  </td></tr>\n",
       "\t<tr><td>male  </td><td>primary  </td></tr>\n",
       "\t<tr><td>male  </td><td>primary  </td></tr>\n",
       "\t<tr><td>male  </td><td>Secondary</td></tr>\n",
       "\t<tr><td>male  </td><td>iliterate</td></tr>\n",
       "</tbody>\n",
       "</table>\n"
      ],
      "text/latex": [
       "A tibble: 6 × 2\n",
       "\\begin{tabular}{ll}\n",
       " Sex & Education\\\\\n",
       " <chr> & <chr>\\\\\n",
       "\\hline\n",
       "\t female & Secondary\\\\\n",
       "\t male   & primary  \\\\\n",
       "\t male   & primary  \\\\\n",
       "\t male   & primary  \\\\\n",
       "\t male   & Secondary\\\\\n",
       "\t male   & iliterate\\\\\n",
       "\\end{tabular}\n"
      ],
      "text/markdown": [
       "\n",
       "A tibble: 6 × 2\n",
       "\n",
       "| Sex &lt;chr&gt; | Education &lt;chr&gt; |\n",
       "|---|---|\n",
       "| female | Secondary |\n",
       "| male   | primary   |\n",
       "| male   | primary   |\n",
       "| male   | primary   |\n",
       "| male   | Secondary |\n",
       "| male   | iliterate |\n",
       "\n"
      ],
      "text/plain": [
       "  Sex    Education\n",
       "1 female Secondary\n",
       "2 male   primary  \n",
       "3 male   primary  \n",
       "4 male   primary  \n",
       "5 male   Secondary\n",
       "6 male   iliterate"
      ]
     },
     "metadata": {},
     "output_type": "display_data"
    }
   ],
   "source": [
    "filtered_data <- suicide_data |>\n",
    "                 select(Sex, Education) |>\n",
    "                 filter(Education != \"unknown\")\n",
    "\n",
    "head(filtered_data)"
   ]
  },
  {
   "cell_type": "code",
   "execution_count": 7,
   "id": "5ded6906",
   "metadata": {
    "tags": [],
    "vscode": {
     "languageId": "r"
    }
   },
   "outputs": [
    {
     "data": {
      "text/html": [
       "533"
      ],
      "text/latex": [
       "533"
      ],
      "text/markdown": [
       "533"
      ],
      "text/plain": [
       "[1] 533"
      ]
     },
     "metadata": {},
     "output_type": "display_data"
    },
    {
     "data": {
      "text/html": [
       "659"
      ],
      "text/latex": [
       "659"
      ],
      "text/markdown": [
       "659"
      ],
      "text/plain": [
       "[1] 659"
      ]
     },
     "metadata": {},
     "output_type": "display_data"
    },
    {
     "data": {
      "text/html": [
       "1280"
      ],
      "text/latex": [
       "1280"
      ],
      "text/markdown": [
       "1280"
      ],
      "text/plain": [
       "[1] 1280"
      ]
     },
     "metadata": {},
     "output_type": "display_data"
    },
    {
     "data": {
      "text/html": [
       "19"
      ],
      "text/latex": [
       "19"
      ],
      "text/markdown": [
       "19"
      ],
      "text/plain": [
       "[1] 19"
      ]
     },
     "metadata": {},
     "output_type": "display_data"
    }
   ],
   "source": [
    "iliterate <- suicide_data |>\n",
    "           \t filter(Education == \"iliterate\")|>\n",
    "\t\t     nrow()\n",
    "primary <- suicide_data |>\n",
    "           filter(Education == \"primary\")|>\n",
    "\t\t   nrow()\n",
    "secondary <- suicide_data |>\n",
    "             filter(Education == \"Secondary\")|>\n",
    "\t\t     nrow()\n",
    "tertiary <- suicide_data |>\n",
    "            filter(Education == \"Tertiary\")|>\n",
    "\t\t    nrow()\n",
    "\n",
    "iliterate\n",
    "primary\n",
    "secondary\n",
    "tertiary\n"
   ]
  },
  {
   "cell_type": "markdown",
   "metadata": {},
   "source": [
    "Let's visualize the data that we got!"
   ]
  },
  {
   "cell_type": "code",
   "execution_count": 31,
   "metadata": {
    "vscode": {
     "languageId": "r"
    }
   },
   "outputs": [
    {
     "data": {
      "image/png": "[encoded data removed]",
      "text/plain": [
       "plot without title"
      ]
     },
     "metadata": {
      "image/png": {
       "height": 480,
       "width": 720
      }
     },
     "output_type": "display_data"
    }
   ],
   "source": [
    "options(repr.plot.width = 12, repr.plot.height = 8)\n",
    "\n",
    "bar_plot <- filtered_data |>\n",
    "    ggplot(aes(x = Sex, y = 1, fill = Education)) + \n",
    "    geom_bar(stat = \"identity\", position = \"stack\") + \n",
    "    xlab(\"Gender\") +\n",
    "    ylab(\"Number of suicide attempts\") +\n",
    "    labs(fill = \"Education level\") +\n",
    "    ggtitle(\"Number of suicide attempts across all education levels in two different genders\") +\n",
    "    scale_fill_brewer(palette = 'Spectral')\n",
    "bar_plot"
   ]
  },
  {
   "cell_type": "markdown",
   "id": "7d5a0b18",
   "metadata": {},
   "source": [
    "Since the two most prominent data are taken from women with primary and secondary educations, we will narrow our findings down and select just females with primary and secondary education as a part of our research."
   ]
  },
  {
   "cell_type": "code",
   "execution_count": 35,
   "id": "0bd757e1",
   "metadata": {
    "tags": [],
    "vscode": {
     "languageId": "r"
    }
   },
   "outputs": [
    {
     "data": {
      "text/html": [
       "<table class=\"dataframe\">\n",
       "<caption>A tibble: 1 × 7</caption>\n",
       "<thead>\n",
       "\t<tr><th scope=col>sex</th><th scope=col>n</th><th scope=col>prop_iliterate</th><th scope=col>prop_primary</th><th scope=col>prop_secondary</th><th scope=col>prop_tertiary</th><th scope=col>total_prop</th></tr>\n",
       "\t<tr><th scope=col>&lt;chr&gt;</th><th scope=col>&lt;int&gt;</th><th scope=col>&lt;dbl&gt;</th><th scope=col>&lt;dbl&gt;</th><th scope=col>&lt;dbl&gt;</th><th scope=col>&lt;dbl&gt;</th><th scope=col>&lt;dbl&gt;</th></tr>\n",
       "</thead>\n",
       "<tbody>\n",
       "\t<tr><td>female</td><td>1290</td><td>0.224031</td><td>0.2434109</td><td>0.5255814</td><td>0.006976744</td><td>1</td></tr>\n",
       "</tbody>\n",
       "</table>\n"
      ],
      "text/latex": [
       "A tibble: 1 × 7\n",
       "\\begin{tabular}{lllllll}\n",
       " sex & n & prop\\_iliterate & prop\\_primary & prop\\_secondary & prop\\_tertiary & total\\_prop\\\\\n",
       " <chr> & <int> & <dbl> & <dbl> & <dbl> & <dbl> & <dbl>\\\\\n",
       "\\hline\n",
       "\t female & 1290 & 0.224031 & 0.2434109 & 0.5255814 & 0.006976744 & 1\\\\\n",
       "\\end{tabular}\n"
      ],
      "text/markdown": [
       "\n",
       "A tibble: 1 × 7\n",
       "\n",
       "| sex &lt;chr&gt; | n &lt;int&gt; | prop_iliterate &lt;dbl&gt; | prop_primary &lt;dbl&gt; | prop_secondary &lt;dbl&gt; | prop_tertiary &lt;dbl&gt; | total_prop &lt;dbl&gt; |\n",
       "|---|---|---|---|---|---|---|\n",
       "| female | 1290 | 0.224031 | 0.2434109 | 0.5255814 | 0.006976744 | 1 |\n",
       "\n"
      ],
      "text/plain": [
       "  sex    n    prop_iliterate prop_primary prop_secondary prop_tertiary\n",
       "1 female 1290 0.224031       0.2434109    0.5255814      0.006976744  \n",
       "  total_prop\n",
       "1 1         "
      ]
     },
     "metadata": {},
     "output_type": "display_data"
    }
   ],
   "source": [
    "prop_table <- filtered_data |>\n",
    "              filter(Sex == \"female\") |>\n",
    "              summarize(sex = \"female\", n = n(),\n",
    "\t\t\t  prop_iliterate = sum(Education == \"iliterate\")/n,\n",
    "\t\t\t  prop_primary = sum(Education == \"primary\")/n, \n",
    "\t\t\t  prop_secondary = sum(Education == \"Secondary\")/n,\n",
    "\t\t\t  prop_tertiary = sum(Education == \"Tertiary\")/n, \n",
    "\t\t\t  total_prop = prop_iliterate + prop_primary + prop_secondary + prop_tertiary) \n",
    "prop_table"
   ]
  },
  {
   "cell_type": "markdown",
   "id": "1313ee87-b509-4d5b-b422-8769c4252d9f",
   "metadata": {},
   "source": [
    "## Methods & Plans"
   ]
  },
  {
   "cell_type": "markdown",
   "id": "38882f96",
   "metadata": {},
   "source": [
    "This report is trustworthy because the dataset has a large sample size (2571). A large number of observations reduces “accident” such as the influence of outliers which helps to achieve more robust and reliable results. In addition, large sample size can lead to more precise estimates and predictions.\n",
    "\n",
    "\n",
    "Continue by explaining why the plot(s) and estimates that you produced are not enough to give to a stakeholder, and what you should provide in addition to address this gap. Make sure your plans include at least one hypothesis test and one confidence interval. If possible, compare both the bootstrapping and asymptotics methods.\n",
    "\n",
    "Finish this section by reflecting on how your final report might play out:\n",
    "\n",
    "What do you expect to find?\n",
    "What impact could such findings have?\n",
    "What future questions could this lead to?"
   ]
  },
  {
   "cell_type": "markdown",
   "id": "c3a910fe-fea9-4bcd-b5ab-aa5bc25d1d1e",
   "metadata": {},
   "source": [
    "## References"
   ]
  },
  {
   "cell_type": "markdown",
   "id": "b434a8a1-c51f-4ed7-9bf3-87dbd7dd0564",
   "metadata": {
    "tags": [],
    "vscode": {
     "languageId": "r"
    }
   },
   "source": [
    "Heather Saunders and Nirmita Panchal. (2023, August 21). *A look at the latest suicide data and change over the last decade.* \n",
    "KFF. https://www.kff.org/mental-health/issue-brief/a-look-at-the-latest-suicide-data-and-change-over-the-last-decade/\n",
    "\n",
    "Phillips, J. A., & Hempstead, K. (2017). Differences in U.S. suicide rates by educational attainment, 2000–2014. \n",
    "*American Journal of Preventive Medicine, 53*(4). https://doi.org/10.1016/j.amepre.2017.04.010 \n"
   ]
  }
 ],
 "metadata": {
  "kernelspec": {
   "display_name": "R",
   "language": "R",
   "name": "ir"
  },
  "language_info": {
   "codemirror_mode": "r",
   "file_extension": ".r",
   "mimetype": "text/x-r-source",
   "name": "R",
   "pygments_lexer": "r",
   "version": "4.2.2"
  }
 },
 "nbformat": 4,
 "nbformat_minor": 5
}
