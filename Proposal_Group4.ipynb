{
 "cells": [
  {
   "cell_type": "markdown",
   "id": "b8ea7770-c172-451c-967a-3173f79cb843",
   "metadata": {
    "tags": []
   },
   "source": [
    "### Project Proposal STAT 201 Group 4\n",
    "# Proportion Inference of Suicide Attempts in Shandong, China using Bootstrapping"
   ]
  },
  {
   "attachments": {
    "pesticide-illustration.jpg": {
     "image/jpeg": "[encoded data removed]"
    }
   },
   "cell_type": "markdown",
   "id": "d27c8a48",
   "metadata": {},
   "source": [
    "![pesticide-illustration.jpg](attachment:pesticide-illustration.jpg)"
   ]
  },
  {
   "cell_type": "markdown",
   "id": "137c620f-9179-4a4f-9a0d-6bc14e95690e",
   "metadata": {
    "tags": []
   },
   "source": [
    "### Group 4: Eric Wei, Laksh Agarwal, Marie Samantha Fidelia, Yiting Sun"
   ]
  },
  {
   "cell_type": "markdown",
   "id": "86f0025b-9dc4-4cf2-98da-390c87a200d4",
   "metadata": {
    "tags": []
   },
   "source": [
    "## Introduction"
   ]
  },
  {
   "cell_type": "markdown",
   "id": "b7a3dae5",
   "metadata": {},
   "source": [
    "In recent years, suicide has become a worldwide public health concern with far-reaching consequences for individuals, community and even the entire society. After accounting for changes in population size and age demographics, there has been a 16% increase in the suicide rate between 2011 and 2022, resulting in an elevation from 12.3 to 14.4 fatalities per 100,000 individuals (Saunders & Panchal, 2023). Therefore, it is important to learn about the factors, triggers, and patterns related to suicide attempts so that they can be prevented effectively. In this project, we will focus on the effect of education levels on suicide risks. We will compare the proportion of suicide rates between primary and secondary education levels for females. A similar research has been done and demonstrated that “Men with a high school education were twice as likely to die by suicide compared with those with a college degree in 2014” (Phillips & Hempstead, 2017); however, we want to examine whether the same pattern will also apply to females.\n",
    "\n",
    "The data set we chose is “Suicide Attempts in Shandong, China” from Kaggle. This data set records the information of suicide victims from 2009 to 2011 in Shandong, China. The local parameter of interest is the difference in proportion of suicide rate between two categories; which are primary and secondary education level. We will also calculate the standard deviation to investigate the sample variation.\n",
    "\n",
    "To get started with our project, we will apply statistical inference to a dataset that was obtained from: https://www.kaggle.com/datasets/utkarshx27/suicide-attempts-in-shandong-china\n",
    "\n",
    "The dataset is downloaded in a comma separated format. It contains 11 columns in which four are continuous variables (person_id, year, month, and age), and the rest are distinct variables. Several missing values are interpreted with an \"unknown\" label in the dataset. The aspects of education levels include: Iliterate, Primary (Grade 1 - 6), Secondary (Grade 7 - 12), and Tertiary (Bachelor's Degrees, Master's Degrees, and Doctoral Degrees). The following two variables will be considered for use in our inference:\n",
    "\n",
    "* Sex (\"Male\"/\"Female\")\n",
    "* Education (\"Iliterate\"/\"Primary\"/\"Secondary\"/\"Tertiary\")\n",
    "\n",
    "#### Research Question: Is there a difference between the proportion of the suicide rates of women with primary and secondary education levels?                                             If so, what is the proportion of women in Shandong, corresponding to the education level with the higher suicide rate, that has attempted suicide?\n",
    "\n"
   ]
  },
  {
   "cell_type": "markdown",
   "id": "04053b0d-c976-403e-9074-38cc55f35f09",
   "metadata": {
    "tags": []
   },
   "source": [
    "## Preliminary Results"
   ]
  },
  {
   "cell_type": "markdown",
   "id": "c20ea57d",
   "metadata": {},
   "source": [
    "### Reading Our Dataset\n",
    "\n",
    "We can start by importing the necessary libraries for our modelling"
   ]
  },
  {
   "cell_type": "code",
   "execution_count": 3,
   "id": "34c4404b",
   "metadata": {
    "tags": [],
    "vscode": {
     "languageId": "r"
    }
   },
   "outputs": [
    {
     "name": "stderr",
     "output_type": "stream",
     "text": [
      "── \u001b[1mAttaching packages\u001b[22m ─────────────────────────────────────── tidyverse 1.3.2 ──\n",
      "\u001b[32m✔\u001b[39m \u001b[34mggplot2\u001b[39m 3.3.6     \u001b[32m✔\u001b[39m \u001b[34mpurrr  \u001b[39m 0.3.4\n",
      "\u001b[32m✔\u001b[39m \u001b[34mtibble \u001b[39m 3.1.8     \u001b[32m✔\u001b[39m \u001b[34mdplyr  \u001b[39m 1.0.9\n",
      "\u001b[32m✔\u001b[39m \u001b[34mtidyr  \u001b[39m 1.2.0     \u001b[32m✔\u001b[39m \u001b[34mstringr\u001b[39m 1.4.1\n",
      "\u001b[32m✔\u001b[39m \u001b[34mreadr  \u001b[39m 2.1.2     \u001b[32m✔\u001b[39m \u001b[34mforcats\u001b[39m 0.5.2\n",
      "── \u001b[1mConflicts\u001b[22m ────────────────────────────────────────── tidyverse_conflicts() ──\n",
      "\u001b[31m✖\u001b[39m \u001b[34mdplyr\u001b[39m::\u001b[32mfilter()\u001b[39m masks \u001b[34mstats\u001b[39m::filter()\n",
      "\u001b[31m✖\u001b[39m \u001b[34mdplyr\u001b[39m::\u001b[32mlag()\u001b[39m    masks \u001b[34mstats\u001b[39m::lag()\n"
     ]
    }
   ],
   "source": [
    "library(tidyverse) # For data cleaning, plotting, etc\n",
    "library(knitr)     # For table centering and justify"
   ]
  },
  {
   "cell_type": "markdown",
   "id": "63c4fbd5",
   "metadata": {},
   "source": [
    "Let's read the chosen csv data with its column names into R "
   ]
  },
  {
   "cell_type": "code",
   "execution_count": 4,
   "id": "e60eca2b",
   "metadata": {
    "tags": [],
    "vscode": {
     "languageId": "r"
    }
   },
   "outputs": [
    {
     "name": "stderr",
     "output_type": "stream",
     "text": [
      "\u001b[1mRows: \u001b[22m\u001b[34m2571\u001b[39m \u001b[1mColumns: \u001b[22m\u001b[34m12\u001b[39m\n",
      "\u001b[36m──\u001b[39m \u001b[1mColumn specification\u001b[22m \u001b[36m────────────────────────────────────────────────────────\u001b[39m\n",
      "\u001b[1mDelimiter:\u001b[22m \",\"\n",
      "\u001b[31mchr\u001b[39m (7): Hospitalised, Died, Urban, Sex, Education, Occupation, method\n",
      "\u001b[32mdbl\u001b[39m (5): Number, Person_ID, Year, Month, Age\n",
      "\n",
      "\u001b[36mℹ\u001b[39m Use `spec()` to retrieve the full column specification for this data.\n",
      "\u001b[36mℹ\u001b[39m Specify the column types or set `show_col_types = FALSE` to quiet this message.\n"
     ]
    },
    {
     "name": "stdout",
     "output_type": "stream",
     "text": [
      "Rows: 2,571\n",
      "Columns: 11\n",
      "$ Person_ID    \u001b[3m\u001b[90m<dbl>\u001b[39m\u001b[23m 1, 2, 3, 4, 5, 6, 7, 8, 9, 10, 11, 12, 13, 14, 15, 16, 17…\n",
      "$ Hospitalised \u001b[3m\u001b[90m<chr>\u001b[39m\u001b[23m \"yes\", \"no\", \"no\", \"no\", \"yes\", \"no\", \"no\", \"yes\", \"no\", …\n",
      "$ Died         \u001b[3m\u001b[90m<chr>\u001b[39m\u001b[23m \"no\", \"yes\", \"yes\", \"yes\", \"no\", \"yes\", \"yes\", \"no\", \"yes…\n",
      "$ Urban        \u001b[3m\u001b[90m<chr>\u001b[39m\u001b[23m \"no\", \"no\", \"no\", \"no\", \"no\", \"no\", \"no\", \"no\", \"no\", \"no…\n",
      "$ Year         \u001b[3m\u001b[90m<dbl>\u001b[39m\u001b[23m 2010, 2009, 2010, 2011, 2009, 2009, 2010, 2010, 2010, 201…\n",
      "$ Month        \u001b[3m\u001b[90m<dbl>\u001b[39m\u001b[23m 12, 3, 2, 1, 8, 11, 1, 10, 7, 1, 11, 3, 6, 1, 12, 2, 6, 5…\n",
      "$ Sex          \u001b[3m\u001b[90m<chr>\u001b[39m\u001b[23m \"female\", \"male\", \"male\", \"male\", \"male\", \"male\", \"female…\n",
      "$ Age          \u001b[3m\u001b[90m<dbl>\u001b[39m\u001b[23m 39, 83, 60, 73, 51, 62, 90, 54, 66, 30, 77, 77, 79, 42, 6…\n",
      "$ Education    \u001b[3m\u001b[90m<chr>\u001b[39m\u001b[23m \"Secondary\", \"Primary\", \"Primary\", \"Primary\", \"Secondary\"…\n",
      "$ Occupation   \u001b[3m\u001b[90m<chr>\u001b[39m\u001b[23m \"household\", \"farming\", \"farming\", \"farming\", \"farming\", …\n",
      "$ method       \u001b[3m\u001b[90m<chr>\u001b[39m\u001b[23m \"Other poison\", \"Hanging\", \"Hanging\", \"Hanging\", \"Pestici…\n"
     ]
    }
   ],
   "source": [
    "suicide_data <- read_csv(\"https://docs.google.com/spreadsheets/d/e/2PACX-1vS0cVcc1RNtcHpY9CnuzkvM_auEuA5HloYBi9MEciadHj4R3uNXNt7ORJwHSJjod85rHzIyigMmVIGy/pub?gid=1118541132&single=true&output=csv\", col_names = TRUE) |>\n",
    "                select(-Number)\n",
    "\n",
    "glimpse(suicide_data)"
   ]
  },
  {
   "cell_type": "markdown",
   "id": "9e6cb3d9",
   "metadata": {},
   "source": [
    "### Cleaning and Wrangling Data Into Tidy Format"
   ]
  },
  {
   "cell_type": "code",
   "execution_count": 5,
   "id": "e83af2b9",
   "metadata": {
    "tags": [],
    "vscode": {
     "languageId": "r"
    }
   },
   "outputs": [],
   "source": [
    "# Check for missing values in our data\n",
    "missing <- filter(suicide_data, Education == \"unknown\") |>\n",
    "           summarize(n = n())\n"
   ]
  },
  {
   "cell_type": "markdown",
   "metadata": {},
   "source": [
    "<div align=\"center\"> Table 1.1: Amount of Rows with Unknown Value \n",
    "\n",
    "|   n|\n",
    "|---:|\n",
    "| 80 | \n",
    "\n",
    "</div>"
   ]
  },
  {
   "cell_type": "markdown",
   "id": "ae51f6d9",
   "metadata": {},
   "source": [
    "The tibble above shows that 80 rows are found to be having missing values of education."
   ]
  },
  {
   "cell_type": "markdown",
   "id": "34760bb1",
   "metadata": {},
   "source": [
    "Let's select the columns we need and then make sure that we filter out any missing values contained in our data"
   ]
  },
  {
   "cell_type": "code",
   "execution_count": 8,
   "metadata": {
    "vscode": {
     "languageId": "r"
    }
   },
   "outputs": [],
   "source": [
    "filtered_data <- suicide_data |>\n",
    "                 select(Sex, Education) |>\n",
    "                 filter(Education != \"unknown\")"
   ]
  },
  {
   "cell_type": "markdown",
   "metadata": {},
   "source": [
    "<div align=\"center\"> Table 1.2: Head of Filtered Data\n",
    "\n",
    "<table style='margin-left: auto; margin-right: auto;'>\n",
    " <thead>\n",
    "  <tr>\n",
    "   <th style=\"text-align:center;\"> Sex </th>\n",
    "   <th style=\"text-align:center;\"> Education </th>\n",
    "  </tr>\n",
    " </thead>\n",
    "<tbody>\n",
    "  <tr>\n",
    "   <td style=\"text-align:center;\"> female </td>\n",
    "   <td style=\"text-align:center;\"> Secondary </td>\n",
    "  </tr>\n",
    "  <tr>\n",
    "   <td style=\"text-align:center;\"> male </td>\n",
    "   <td style=\"text-align:center;\"> Primary </td>\n",
    "  </tr>\n",
    "  <tr>\n",
    "   <td style=\"text-align:center;\"> male </td>\n",
    "   <td style=\"text-align:center;\"> Primary </td>\n",
    "  </tr>\n",
    "  <tr>\n",
    "   <td style=\"text-align:center;\"> male </td>\n",
    "   <td style=\"text-align:center;\"> Primary </td>\n",
    "  </tr>\n",
    "  <tr>\n",
    "   <td style=\"text-align:center;\"> male </td>\n",
    "   <td style=\"text-align:center;\"> Secondary </td>\n",
    "  </tr>\n",
    "  <tr>\n",
    "   <td style=\"text-align:center;\"> male </td>\n",
    "   <td style=\"text-align:center;\"> Iliterate </td>\n",
    "  </tr>\n",
    "</tbody>\n",
    "</table>\n",
    "\n",
    "</div>"
   ]
  },
  {
   "cell_type": "markdown",
   "id": "83700e40",
   "metadata": {},
   "source": [
    "Now let's visualize the data that we got!"
   ]
  },
  {
   "cell_type": "code",
   "execution_count": 9,
   "id": "e0495887",
   "metadata": {
    "vscode": {
     "languageId": "r"
    }
   },
   "outputs": [
    {
     "data": {
      "image/png": "[encoded data removed]",
      "text/plain": [
       "plot without title"
      ]
     },
     "metadata": {
      "image/png": {
       "height": 480,
       "width": 720
      }
     },
     "output_type": "display_data"
    }
   ],
   "source": [
    "options(repr.plot.width = 12, repr.plot.height = 8)\n",
    "\n",
    "bar_plot <- filtered_data |>\n",
    "     \t\tggplot(aes(x = Sex, y = 1, fill = Education)) + \n",
    "    \t\tgeom_bar(stat = \"identity\", position = \"stack\") + \n",
    "    \t\txlab(\"Gender\") +\n",
    "    \t\tylab(\"Number of suicide attempts\") +\n",
    "    \t\tlabs(fill = \"Education level\") +\n",
    "    \t\tggtitle(\"Figure 1.1: Number of Suicide Attempts Across All Education Levels in Two Different Genders\") +\n",
    "    \t\tscale_fill_brewer(palette = 'Spectral')\n",
    "bar_plot"
   ]
  },
  {
   "cell_type": "markdown",
   "id": "7d5a0b18",
   "metadata": {},
   "source": [
    "Since the two most prominent data are taken from women with primary and secondary educations and they are our parameters of interest, we will narrow our findings down and select just females with primary and secondary education as a part of our research."
   ]
  },
  {
   "cell_type": "code",
   "execution_count": 10,
   "id": "0bd757e1",
   "metadata": {
    "tags": [],
    "vscode": {
     "languageId": "r"
    }
   },
   "outputs": [],
   "source": [
    "prop_table <- filtered_data |>\n",
    "              filter(Sex == \"female\") |>\n",
    "              summarize(sex = \"female\", n = n(),\n",
    "\t\t\t  prop_iliterate = sum(Education == \"Iliterate\")/n,\n",
    "\t\t\t  prop_primary = sum(Education == \"Primary\")/n, \n",
    "\t\t\t  prop_secondary = sum(Education == \"Secondary\")/n,\n",
    "\t\t\t  prop_tertiary = sum(Education == \"Tertiary\")/n, \n",
    "\t\t\t  total_prop = prop_iliterate + prop_primary + prop_secondary + prop_tertiary) "
   ]
  },
  {
   "cell_type": "markdown",
   "metadata": {},
   "source": [
    "<div align=\"center\"> \n",
    "<caption>Table 1.3: Proportions of Female in Shandong That Had Attempted Suicide</caption>\n",
    "<table style='margin-left: auto; margin-right: auto;'>\n",
    " <thead>\n",
    "  <tr>\n",
    "   <th style=\"text-align:center;\"> sex </th>\n",
    "   <th style=\"text-align:center;\"> n </th>\n",
    "   <th style=\"text-align:center;\"> prop_iliterate </th>\n",
    "   <th style=\"text-align:center;\"> prop_primary </th>\n",
    "   <th style=\"text-align:center;\"> prop_secondary </th>\n",
    "   <th style=\"text-align:center;\"> prop_tertiary </th>\n",
    "   <th style=\"text-align:center;\"> total_prop </th>\n",
    "  </tr>\n",
    " </thead>\n",
    "<tbody>\n",
    "  <tr>\n",
    "   <td style=\"text-align:center;\"> female </td>\n",
    "   <td style=\"text-align:center;\"> 1290 </td>\n",
    "   <td style=\"text-align:center;\"> 0.224031 </td>\n",
    "   <td style=\"text-align:center;\"> 0.2434109 </td>\n",
    "   <td style=\"text-align:center;\"> 0.5255814 </td>\n",
    "   <td style=\"text-align:center;\"> 0.0069767 </td>\n",
    "   <td style=\"text-align:center;\"> 1 </td>\n",
    "  </tr>\n",
    "</tbody>\n",
    "</table>\n",
    "</div>\n"
   ]
  },
  {
   "cell_type": "markdown",
   "metadata": {},
   "source": [
    "Let's create a visual representation of the above statistics to show a clear comparison!"
   ]
  },
  {
   "cell_type": "code",
   "execution_count": 11,
   "metadata": {
    "vscode": {
     "languageId": "r"
    }
   },
   "outputs": [
    {
     "data": {
      "image/png": "[encoded data removed]",
      "text/plain": [
       "plot without title"
      ]
     },
     "metadata": {
      "image/png": {
       "height": 480,
       "width": 720
      }
     },
     "output_type": "display_data"
    }
   ],
   "source": [
    "prop_values <- data.frame(prop = c(\"Iliterate\", \"Primary\", \"Secondary\", \"Tertiary\"), value = c(prop_table$prop_iliterate, prop_table$prop_primary, prop_table$prop_secondary, prop_table$prop_tertiary))\n",
    "\n",
    "female_bar_plot <- prop_values |>\n",
    "\t\t\t\t   ggplot(aes(x = prop, y = value)) + \n",
    "    \t\t\t   geom_bar(stat = \"identity\", fill = \"red\") + \n",
    "    \t\t       xlab(\"Education level\") + \n",
    "\t\t\t\t   ylab(\"Proportion of suicide attempts\") +\n",
    "\t\t\t\t   ggtitle(\"Figure 1.2: Proportion of Suicide Attempts Across Women with Different Education Levels in Shandong, China\")\n",
    "female_bar_plot"
   ]
  },
  {
   "cell_type": "markdown",
   "id": "9434f16f",
   "metadata": {},
   "source": [
    "From the sample that we had, it appears that women with secondary education have a higher proportion of suicide attempts than those with primary education in Shandong, China, with around 52.6% of the female population."
   ]
  },
  {
   "cell_type": "markdown",
   "id": "1313ee87-b509-4d5b-b422-8769c4252d9f",
   "metadata": {},
   "source": [
    "## Methods & Plans"
   ]
  },
  {
   "cell_type": "markdown",
   "id": "38882f96",
   "metadata": {},
   "source": [
    "This report is trustworthy because the dataset has a large sample size (2571). A large number of observations reduces “accident” such as the influence of outliers which helps to achieve more robust and reliable results. In addition, large sample size can lead to more precise estimates and predictions.\n",
    "\n",
    "However, having said that, as presented above we can see that the proportion of females that have finished a secondary level of education are way more likely at risk of suicide than any other given education level. However the plots and estimates above pertain only to the given sample and might have variations that might not represent the true population of female suicides in Shandong. Thus we are going to try and bootstrap from this given dataset and produce two ways of checking our final statistic: \n",
    "1) A hypothesis test: \n",
    "\n",
    "Null hypothesis: $\\widehat{p_{primary}} - \\widehat{p_{secondary}} = 0$\n",
    "\n",
    "Alternative hypothesis: $\\widehat{p_{primary}} - \\widehat{p_{secondary}} ≠ 0$\n",
    "\n",
    "2) A confidence interval of 95% will be used to estimate the true population parameter. We are using the percentile method to calculate the confidence interval and we will do this by computing the 2.5th and 97.5th percentiles\n",
    "\n",
    "\n",
    "##### What do you expect to find?\n",
    "\n",
    "We expect to find a definite conclusion to the question of whether females with a secondary level of education are more at risk than females with a primary level of education or rather any level of education, as well as the range of proportion we are confident of that could represent the female population of Shandong.\n",
    "\n",
    "##### What impact could such findings have?\n",
    "\n",
    "This study's findings highlighting the higher proportion of suicide among individuals with secondary education could have significant implications for mitigating such incidents. Considering the impact of the education system in Shandong, China, particularly the notorious national examination (GaoKao), it becomes crucial to assess whether it contributes to these trends and if it adequately provides mental health resources for students and citizens. As the study is a bit old, the findings might be a bit outdated but it would incentivise for another study to be done on suicides in the Shandong region and hopefully empower the females of the region and provide them with the services need to take care of their mental health.\n",
    "\n",
    "##### What future questions could this lead to?\n",
    "We were particularly interested by the fact that one would think that the lowest level of education would have the highest levels of suicides due to perhaps not having the resources to take care of their mental health but in fact the highest proportion are those of secondary education which could arise questions such as:\n",
    "1) Do individuals with primary education levels exhibit higher life satisfaction compared to those with secondary education?\n",
    "2) Are women with secondary education more susceptible to depression and suicidal tendencies?\n",
    "3) Could the education system in Shandong, China, particularly the notorious national examination (GaoKao), contribute to these trends, and does it provide adequate mental health resources for students and citizens?"
   ]
  },
  {
   "cell_type": "markdown",
   "id": "c3a910fe-fea9-4bcd-b5ab-aa5bc25d1d1e",
   "metadata": {},
   "source": [
    "## References"
   ]
  },
  {
   "cell_type": "markdown",
   "id": "b434a8a1-c51f-4ed7-9bf3-87dbd7dd0564",
   "metadata": {
    "tags": [],
    "vscode": {
     "languageId": "r"
    }
   },
   "source": [
    "Heather Saunders and Nirmita Panchal. (2023, August 21). *A look at the latest suicide data and change over the last decade.* \n",
    "KFF. https://www.kff.org/mental-health/issue-brief/a-look-at-the-latest-suicide-data-and-change-over-the-last-decade/\n",
    "\n",
    "Phillips, J. A., & Hempstead, K. (2017). Differences in U.S. suicide rates by educational attainment, 2000–2014. \n",
    "*American Journal of Preventive Medicine, 53*(4). https://doi.org/10.1016/j.amepre.2017.04.010 \n"
   ]
  }
 ],
 "metadata": {
  "kernelspec": {
   "display_name": "R",
   "language": "R",
   "name": "ir"
  },
  "language_info": {
   "codemirror_mode": "r",
   "file_extension": ".r",
   "mimetype": "text/x-r-source",
   "name": "R",
   "pygments_lexer": "r",
   "version": "4.2.2"
  }
 },
 "nbformat": 4,
 "nbformat_minor": 5
}
