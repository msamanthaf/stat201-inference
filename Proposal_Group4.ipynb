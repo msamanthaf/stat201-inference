{
 "cells": [
  {
   "cell_type": "markdown",
   "id": "b8ea7770-c172-451c-967a-3173f79cb843",
   "metadata": {
    "tags": []
   },
   "source": [
    "### Project Proposal STAT 201 Group 4\n",
    "# Proportion Inference of Suicide Attempts in Shangdong, China using Bootstrapping"
   ]
  },
  {
   "attachments": {
    "pesticide-illustration.jpg": {
     "image/jpeg": "[encoded data removed]"
    }
   },
   "cell_type": "markdown",
   "id": "d27c8a48",
   "metadata": {},
   "source": [
    "![pesticide-illustration.jpg](attachment:pesticide-illustration.jpg)"
   ]
  },
  {
   "cell_type": "markdown",
   "id": "137c620f-9179-4a4f-9a0d-6bc14e95690e",
   "metadata": {
    "tags": []
   },
   "source": [
    "### Group 4: Eric Wei, Laksh Agarwal, Marie Samantha Fidelia, Yitting Sun"
   ]
  },
  {
   "cell_type": "markdown",
   "id": "e2b2a540-8493-4fd4-b315-74789265bc2d",
   "metadata": {
    "tags": []
   },
   "source": [
    "Dataset used:\n",
    "https://www.kaggle.com/datasets/utkarshx27/suicide-attempts-in-shandong-china"
   ]
  },
  {
   "cell_type": "markdown",
   "id": "86f0025b-9dc4-4cf2-98da-390c87a200d4",
   "metadata": {
    "tags": []
   },
   "source": [
    "## Introduction"
   ]
  },
  {
   "cell_type": "markdown",
   "id": "b7a3dae5",
   "metadata": {},
   "source": [
    "Begin by providing some relevant background information on the topic so that someone unfamiliar with it will be prepared to understand the rest of your proposal.\n",
    "\n",
    "Clearly state the question you will try to answer with your project. Your question should involve one or more random variables of interest, spread across two or more categories that are interesting to compare. For example, you could consider the annual maxima river flow at two different locations along a river, or perhaps gender diversity at different universities. Of the response variable, identify one location parameter (mean, median, quantile, etc.) and one scale parameter (standard deviation, inter-quartile range, etc.) that would be useful in answering your question. Justify your choices.\n",
    "\n",
    "UPDATE (Mar 1, 2022): If it doesn’t make sense to infer a scale parameter, you can choose another parameter, or choose a second variable altogether. Ultimately, we’re looking for a comprehensive inference analysis on one parameter spread across 2+ groups (with at least one hypothesis test), plus a bit more (such as an investigation on the variance, a quantile, or a different variable). In total, you should use both bootstrapping and asymptotics somewhere in your report at least once each. Also, your hypothesis test(s) need not be significant: it is perfectly fine to write a report claiming no significant findings (i.e. your p-value is large).\n",
    "\n",
    "Identify and describe the dataset that will be used to answer the question. Remember, this dataset is allowed to contain more variables than you need – feel free to drop them!\n",
    "\n",
    "Also, be sure to frame your question/objectives in terms of what is already known in the literature. Be sure to include at least two scientific publications that can help frame your study (you will need to include these in the References section). We have no specific citation style requirements, but be consistent."
   ]
  },
  {
   "cell_type": "markdown",
   "id": "04053b0d-c976-403e-9074-38cc55f35f09",
   "metadata": {
    "tags": []
   },
   "source": [
    "## Preliminary Results"
   ]
  },
  {
   "cell_type": "markdown",
   "id": "7e509511",
   "metadata": {},
   "source": [
    "In this section, you will:\n",
    "\n",
    "Demonstrate that the dataset can be read from the web into R.\n",
    "Clean and wrangle your data into a tidy format.\n",
    "Plot the relevant raw data, tailoring your plot in a way that addresses your question.\n",
    "Compute estimates of the parameter you identified across your groups. Present this in a table. If relevant, include these estimates in your plot.\n",
    "Be sure to not print output that takes up a lot of screen space."
   ]
  },
  {
   "cell_type": "markdown",
   "id": "6f1836ed-19cf-4454-8c7a-3e61dd9c2b52",
   "metadata": {
    "tags": []
   },
   "source": [
    "## Methods: Plan"
   ]
  },
  {
   "cell_type": "markdown",
   "metadata": {},
   "source": [
    "### Reading Our Dataset\n",
    "\n",
    "We can start by importing the necessary libraries for our modelling"
   ]
  },
  {
   "cell_type": "code",
   "execution_count": 9,
   "metadata": {
    "vscode": {
     "languageId": "r"
    }
   },
   "outputs": [],
   "source": [
    "library(tidyverse)"
   ]
  },
  {
   "cell_type": "markdown",
   "metadata": {},
   "source": [
    "Let's read the chosen csv data with its column names into R "
   ]
  },
  {
   "cell_type": "code",
   "execution_count": 46,
   "metadata": {
    "vscode": {
     "languageId": "r"
    }
   },
   "outputs": [
    {
     "name": "stderr",
     "output_type": "stream",
     "text": [
      "\u001b[1mRows: \u001b[22m\u001b[34m2571\u001b[39m \u001b[1mColumns: \u001b[22m\u001b[34m12\u001b[39m\n",
      "\u001b[36m──\u001b[39m \u001b[1mColumn specification\u001b[22m \u001b[36m────────────────────────────────────────────────────────\u001b[39m\n",
      "\u001b[1mDelimiter:\u001b[22m \",\"\n",
      "\u001b[31mchr\u001b[39m (7): Hospitalised, Died, Urban, Sex, Education, Occupation, method\n",
      "\u001b[32mdbl\u001b[39m (5): Number, Person_ID, Year, Month, Age\n",
      "\n",
      "\u001b[36mℹ\u001b[39m Use `spec()` to retrieve the full column specification for this data.\n",
      "\u001b[36mℹ\u001b[39m Specify the column types or set `show_col_types = FALSE` to quiet this message.\n"
     ]
    },
    {
     "name": "stdout",
     "output_type": "stream",
     "text": [
      "Rows: 2,571\n",
      "Columns: 11\n",
      "$ Person_ID    \u001b[3m\u001b[90m<dbl>\u001b[39m\u001b[23m 1, 2, 3, 4, 5, 6, 7, 8, 9, 10, 11, 12, 13, 14, 15, 16, 17…\n",
      "$ Hospitalised \u001b[3m\u001b[90m<chr>\u001b[39m\u001b[23m \"yes\", \"no\", \"no\", \"no\", \"yes\", \"no\", \"no\", \"yes\", \"no\", …\n",
      "$ Died         \u001b[3m\u001b[90m<chr>\u001b[39m\u001b[23m \"no\", \"yes\", \"yes\", \"yes\", \"no\", \"yes\", \"yes\", \"no\", \"yes…\n",
      "$ Urban        \u001b[3m\u001b[90m<chr>\u001b[39m\u001b[23m \"no\", \"no\", \"no\", \"no\", \"no\", \"no\", \"no\", \"no\", \"no\", \"no…\n",
      "$ Year         \u001b[3m\u001b[90m<dbl>\u001b[39m\u001b[23m 2010, 2009, 2010, 2011, 2009, 2009, 2010, 2010, 2010, 201…\n",
      "$ Month        \u001b[3m\u001b[90m<dbl>\u001b[39m\u001b[23m 12, 3, 2, 1, 8, 11, 1, 10, 7, 1, 11, 3, 6, 1, 12, 2, 6, 5…\n",
      "$ Sex          \u001b[3m\u001b[90m<chr>\u001b[39m\u001b[23m \"female\", \"male\", \"male\", \"male\", \"male\", \"male\", \"female…\n",
      "$ Age          \u001b[3m\u001b[90m<dbl>\u001b[39m\u001b[23m 39, 83, 60, 73, 51, 62, 90, 54, 66, 30, 77, 77, 79, 42, 6…\n",
      "$ Education    \u001b[3m\u001b[90m<chr>\u001b[39m\u001b[23m \"Secondary\", \"primary\", \"primary\", \"primary\", \"Secondary\"…\n",
      "$ Occupation   \u001b[3m\u001b[90m<chr>\u001b[39m\u001b[23m \"household\", \"farming\", \"farming\", \"farming\", \"farming\", …\n",
      "$ method       \u001b[3m\u001b[90m<chr>\u001b[39m\u001b[23m \"Other poison\", \"Hanging\", \"Hanging\", \"Hanging\", \"Pestici…\n"
     ]
    }
   ],
   "source": [
    "suicide_data <- read_csv(\"https://docs.google.com/spreadsheets/d/e/2PACX-1vS0cVcc1RNtcHpY9CnuzkvM_auEuA5HloYBi9MEciadHj4R3uNXNt7ORJwHSJjod85rHzIyigMmVIGy/pub?gid=1118541132&single=true&output=csv\", col_names = TRUE) |>\n",
    "                select(-Number)\n",
    "\n",
    "glimpse(suicide_data)"
   ]
  },
  {
   "cell_type": "markdown",
   "metadata": {},
   "source": [
    "### Cleaning and Wrangling Data Into Tidy Format"
   ]
  },
  {
   "cell_type": "code",
   "execution_count": 87,
   "metadata": {
    "vscode": {
     "languageId": "r"
    }
   },
   "outputs": [
    {
     "data": {
      "text/html": [
       "<table class=\"dataframe\">\n",
       "<caption>A tibble: 1 × 1</caption>\n",
       "<thead>\n",
       "\t<tr><th scope=col>n</th></tr>\n",
       "\t<tr><th scope=col>&lt;int&gt;</th></tr>\n",
       "</thead>\n",
       "<tbody>\n",
       "\t<tr><td>80</td></tr>\n",
       "</tbody>\n",
       "</table>\n"
      ],
      "text/latex": [
       "A tibble: 1 × 1\n",
       "\\begin{tabular}{l}\n",
       " n\\\\\n",
       " <int>\\\\\n",
       "\\hline\n",
       "\t 80\\\\\n",
       "\\end{tabular}\n"
      ],
      "text/markdown": [
       "\n",
       "A tibble: 1 × 1\n",
       "\n",
       "| n &lt;int&gt; |\n",
       "|---|\n",
       "| 80 |\n",
       "\n"
      ],
      "text/plain": [
       "  n \n",
       "1 80"
      ]
     },
     "metadata": {},
     "output_type": "display_data"
    }
   ],
   "source": [
    "missing <- filter(suicide_data, Education == \"unknown\") |>\n",
    "           summarize(n = n())\n",
    "missing"
   ]
  },
  {
   "cell_type": "markdown",
   "metadata": {},
   "source": [
    "The tibble above shows that 80 rows are found to be having missing values of education."
   ]
  },
  {
   "cell_type": "markdown",
   "metadata": {},
   "source": [
    "Let's select the columns we need and then make sure that we filter out any missing values contained in our data"
   ]
  },
  {
   "cell_type": "code",
   "execution_count": 88,
   "metadata": {
    "vscode": {
     "languageId": "r"
    }
   },
   "outputs": [
    {
     "data": {
      "text/html": [
       "<table class=\"dataframe\">\n",
       "<caption>A tibble: 6 × 2</caption>\n",
       "<thead>\n",
       "\t<tr><th scope=col>Sex</th><th scope=col>Education</th></tr>\n",
       "\t<tr><th scope=col>&lt;chr&gt;</th><th scope=col>&lt;chr&gt;</th></tr>\n",
       "</thead>\n",
       "<tbody>\n",
       "\t<tr><td>female</td><td>Secondary</td></tr>\n",
       "\t<tr><td>male  </td><td>primary  </td></tr>\n",
       "\t<tr><td>male  </td><td>primary  </td></tr>\n",
       "\t<tr><td>male  </td><td>primary  </td></tr>\n",
       "\t<tr><td>male  </td><td>Secondary</td></tr>\n",
       "\t<tr><td>male  </td><td>iliterate</td></tr>\n",
       "</tbody>\n",
       "</table>\n"
      ],
      "text/latex": [
       "A tibble: 6 × 2\n",
       "\\begin{tabular}{ll}\n",
       " Sex & Education\\\\\n",
       " <chr> & <chr>\\\\\n",
       "\\hline\n",
       "\t female & Secondary\\\\\n",
       "\t male   & primary  \\\\\n",
       "\t male   & primary  \\\\\n",
       "\t male   & primary  \\\\\n",
       "\t male   & Secondary\\\\\n",
       "\t male   & iliterate\\\\\n",
       "\\end{tabular}\n"
      ],
      "text/markdown": [
       "\n",
       "A tibble: 6 × 2\n",
       "\n",
       "| Sex &lt;chr&gt; | Education &lt;chr&gt; |\n",
       "|---|---|\n",
       "| female | Secondary |\n",
       "| male   | primary   |\n",
       "| male   | primary   |\n",
       "| male   | primary   |\n",
       "| male   | Secondary |\n",
       "| male   | iliterate |\n",
       "\n"
      ],
      "text/plain": [
       "  Sex    Education\n",
       "1 female Secondary\n",
       "2 male   primary  \n",
       "3 male   primary  \n",
       "4 male   primary  \n",
       "5 male   Secondary\n",
       "6 male   iliterate"
      ]
     },
     "metadata": {},
     "output_type": "display_data"
    }
   ],
   "source": [
    "filtered_data <- suicide_data |>\n",
    "                 select(Sex, Education) |>\n",
    "                 filter(Education != \"unknown\")\n",
    "\n",
    "head(filtered_data)"
   ]
  },
  {
   "cell_type": "code",
   "execution_count": 89,
   "metadata": {
    "vscode": {
     "languageId": "r"
    }
   },
   "outputs": [
    {
     "name": "stderr",
     "output_type": "stream",
     "text": [
      "\u001b[1m\u001b[22m`summarise()` has grouped output by 'Sex'. You can override using the `.groups`\n",
      "argument.\n"
     ]
    },
    {
     "data": {
      "text/html": [
       "<table class=\"dataframe\">\n",
       "<caption>A grouped_df: 2 × 4</caption>\n",
       "<thead>\n",
       "\t<tr><th scope=col>Sex</th><th scope=col>Education</th><th scope=col>n</th><th scope=col>prop</th></tr>\n",
       "\t<tr><th scope=col>&lt;chr&gt;</th><th scope=col>&lt;chr&gt;</th><th scope=col>&lt;int&gt;</th><th scope=col>&lt;dbl&gt;</th></tr>\n",
       "</thead>\n",
       "<tbody>\n",
       "\t<tr><td>male</td><td>primary  </td><td>345</td><td>0.3643083</td></tr>\n",
       "\t<tr><td>male</td><td>Secondary</td><td>602</td><td>0.6356917</td></tr>\n",
       "</tbody>\n",
       "</table>\n"
      ],
      "text/latex": [
       "A grouped\\_df: 2 × 4\n",
       "\\begin{tabular}{llll}\n",
       " Sex & Education & n & prop\\\\\n",
       " <chr> & <chr> & <int> & <dbl>\\\\\n",
       "\\hline\n",
       "\t male & primary   & 345 & 0.3643083\\\\\n",
       "\t male & Secondary & 602 & 0.6356917\\\\\n",
       "\\end{tabular}\n"
      ],
      "text/markdown": [
       "\n",
       "A grouped_df: 2 × 4\n",
       "\n",
       "| Sex &lt;chr&gt; | Education &lt;chr&gt; | n &lt;int&gt; | prop &lt;dbl&gt; |\n",
       "|---|---|---|---|\n",
       "| male | primary   | 345 | 0.3643083 |\n",
       "| male | Secondary | 602 | 0.6356917 |\n",
       "\n"
      ],
      "text/plain": [
       "  Sex  Education n   prop     \n",
       "1 male primary   345 0.3643083\n",
       "2 male Secondary 602 0.6356917"
      ]
     },
     "metadata": {},
     "output_type": "display_data"
    },
    {
     "name": "stderr",
     "output_type": "stream",
     "text": [
      "\u001b[1m\u001b[22m`summarise()` has grouped output by 'Sex'. You can override using the `.groups`\n",
      "argument.\n"
     ]
    },
    {
     "data": {
      "text/html": [
       "<table class=\"dataframe\">\n",
       "<caption>A grouped_df: 2 × 4</caption>\n",
       "<thead>\n",
       "\t<tr><th scope=col>Sex</th><th scope=col>Education</th><th scope=col>n</th><th scope=col>prop</th></tr>\n",
       "\t<tr><th scope=col>&lt;chr&gt;</th><th scope=col>&lt;chr&gt;</th><th scope=col>&lt;int&gt;</th><th scope=col>&lt;dbl&gt;</th></tr>\n",
       "</thead>\n",
       "<tbody>\n",
       "\t<tr><td>female</td><td>primary  </td><td>314</td><td>0.3165323</td></tr>\n",
       "\t<tr><td>female</td><td>Secondary</td><td>678</td><td>0.6834677</td></tr>\n",
       "</tbody>\n",
       "</table>\n"
      ],
      "text/latex": [
       "A grouped\\_df: 2 × 4\n",
       "\\begin{tabular}{llll}\n",
       " Sex & Education & n & prop\\\\\n",
       " <chr> & <chr> & <int> & <dbl>\\\\\n",
       "\\hline\n",
       "\t female & primary   & 314 & 0.3165323\\\\\n",
       "\t female & Secondary & 678 & 0.6834677\\\\\n",
       "\\end{tabular}\n"
      ],
      "text/markdown": [
       "\n",
       "A grouped_df: 2 × 4\n",
       "\n",
       "| Sex &lt;chr&gt; | Education &lt;chr&gt; | n &lt;int&gt; | prop &lt;dbl&gt; |\n",
       "|---|---|---|---|\n",
       "| female | primary   | 314 | 0.3165323 |\n",
       "| female | Secondary | 678 | 0.6834677 |\n",
       "\n"
      ],
      "text/plain": [
       "  Sex    Education n   prop     \n",
       "1 female primary   314 0.3165323\n",
       "2 female Secondary 678 0.6834677"
      ]
     },
     "metadata": {},
     "output_type": "display_data"
    }
   ],
   "source": [
    "male <- filtered_data |>\n",
    "         filter(Sex == \"male\") |>\n",
    "         filter(Education == \"primary\" | Education == \"Secondary\") |>\n",
    "         group_by(Sex, Education) |>\n",
    "         summarize(n = n()) |>\n",
    "\t\t mutate(prop = n/sum(n))\n",
    "male\n",
    "\n",
    "female <- filtered_data |>\n",
    "         filter(Sex == \"female\") |>\n",
    "         filter(Education == \"primary\" | Education == \"Secondary\") |>\n",
    "         group_by(Sex, Education) |>\n",
    "         summarize(n = n()) |>\n",
    "\t\t mutate(prop = n/sum(n))\n",
    "female"
   ]
  },
  {
   "cell_type": "code",
   "execution_count": 90,
   "metadata": {
    "vscode": {
     "languageId": "r"
    }
   },
   "outputs": [
    {
     "data": {
      "text/html": [
       "533"
      ],
      "text/latex": [
       "533"
      ],
      "text/markdown": [
       "533"
      ],
      "text/plain": [
       "[1] 533"
      ]
     },
     "metadata": {},
     "output_type": "display_data"
    },
    {
     "data": {
      "text/html": [
       "659"
      ],
      "text/latex": [
       "659"
      ],
      "text/markdown": [
       "659"
      ],
      "text/plain": [
       "[1] 659"
      ]
     },
     "metadata": {},
     "output_type": "display_data"
    },
    {
     "data": {
      "text/html": [
       "1280"
      ],
      "text/latex": [
       "1280"
      ],
      "text/markdown": [
       "1280"
      ],
      "text/plain": [
       "[1] 1280"
      ]
     },
     "metadata": {},
     "output_type": "display_data"
    },
    {
     "data": {
      "text/html": [
       "19"
      ],
      "text/latex": [
       "19"
      ],
      "text/markdown": [
       "19"
      ],
      "text/plain": [
       "[1] 19"
      ]
     },
     "metadata": {},
     "output_type": "display_data"
    }
   ],
   "source": [
    "iliterate <- suicide_data |>\n",
    "           \t filter(Education == \"iliterate\")|>\n",
    "\t\t     nrow()\n",
    "primary <- suicide_data |>\n",
    "           filter(Education == \"primary\")|>\n",
    "\t\t   nrow()\n",
    "secondary <- suicide_data |>\n",
    "             filter(Education == \"Secondary\")|>\n",
    "\t\t     nrow()\n",
    "tertiary <- suicide_data |>\n",
    "            filter(Education == \"Tertiary\")|>\n",
    "\t\t    nrow()\n",
    "\n",
    "iliterate\n",
    "primary\n",
    "secondary\n",
    "tertiary\n"
   ]
  },
  {
   "cell_type": "markdown",
   "metadata": {},
   "source": [
    "Since the two most prominent data are taken from people with primary and secondary educations, we will narrow our findings down and select just primary and secondary education as a part of our research."
   ]
  },
  {
   "cell_type": "markdown",
   "id": "38882f96",
   "metadata": {},
   "source": [
    "The previous sections will carry over to your final report (you’ll be allowed to improve them based on feedback you get). Begin this Methods section with a brief description of “the good things” about this report – specifically, in what ways is this report trustworthy?\n",
    "\n",
    "Continue by explaining why the plot(s) and estimates that you produced are not enough to give to a stakeholder, and what you should provide in addition to address this gap. Make sure your plans include at least one hypothesis test and one confidence interval. If possible, compare both the bootstrapping and asymptotics methods.\n",
    "\n",
    "Finish this section by reflecting on how your final report might play out:\n",
    "\n",
    "What do you expect to find?\n",
    "What impact could such findings have?\n",
    "What future questions could this lead to?"
   ]
  },
  {
   "cell_type": "markdown",
   "id": "c3a910fe-fea9-4bcd-b5ab-aa5bc25d1d1e",
   "metadata": {},
   "source": [
    "## References"
   ]
  },
  {
   "cell_type": "code",
   "execution_count": null,
   "id": "1c1cff84-a063-44e9-b53f-aab79867e33c",
   "metadata": {
    "vscode": {
     "languageId": "r"
    }
   },
   "outputs": [],
   "source": []
  }
 ],
 "metadata": {
  "kernelspec": {
   "display_name": "R",
   "language": "R",
   "name": "ir"
  },
  "language_info": {
   "codemirror_mode": "r",
   "file_extension": ".r",
   "mimetype": "text/x-r-source",
   "name": "R",
   "pygments_lexer": "r",
   "version": "4.2.2"
  }
 },
 "nbformat": 4,
 "nbformat_minor": 5
}
