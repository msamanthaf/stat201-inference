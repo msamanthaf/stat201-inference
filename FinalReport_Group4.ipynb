{
 "cells": [
  {
   "cell_type": "markdown",
   "id": "b8ea7770-c172-451c-967a-3173f79cb843",
   "metadata": {
    "tags": []
   },
   "source": [
    "### Final Project Report STAT 201 Group 4\n",
    "# Gender Proportion Inference of Suicide Attempts Across Primary Education Level in Shandong, China"
   ]
  },
  {
   "attachments": {
    "pesticide-illustration.jpg": {
     "image/jpeg": "[encoded data removed]"
    }
   },
   "cell_type": "markdown",
   "id": "d27c8a48",
   "metadata": {},
   "source": [
    "![pesticide-illustration.jpg](attachment:pesticide-illustration.jpg)"
   ]
  },
  {
   "cell_type": "markdown",
   "id": "137c620f-9179-4a4f-9a0d-6bc14e95690e",
   "metadata": {
    "tags": []
   },
   "source": [
    "### Group 4: Eric Wei, Laksh Agarwal, Marie Samantha Fidelia, Yiting Sun"
   ]
  },
  {
   "cell_type": "markdown",
   "id": "86f0025b-9dc4-4cf2-98da-390c87a200d4",
   "metadata": {
    "tags": []
   },
   "source": [
    "## Introduction"
   ]
  },
  {
   "cell_type": "markdown",
   "id": "b7a3dae5",
   "metadata": {},
   "source": [
    "In recent years, suicide has become a worldwide public health concern with far-reaching consequences for individuals, community and even the entire society. After accounting for changes in population size and age demographics, there has been a 16% increase in the suicide rate between 2011 and 2022, resulting in an elevation from 12.3 to 14.4 fatalities per 100,000 individuals (Saunders & Panchal, 2023). Therefore, it is important to learn about the factors, triggers, and patterns related to suicide attempts so that they can be prevented effectively. In this project, we will focus on the effect of education levels on suicide risks. We will compare the proportion of suicide rates between primary and secondary education levels for females. A similar research has been done and demonstrated that “Men with a high school education were twice as likely to die by suicide compared with those with a college degree in 2014” (Phillips & Hempstead, 2017); however, we want to examine whether the same pattern will also apply to females.\n",
    "\n",
    "The data set we chose is “Suicide Attempts in Shandong, China” from Kaggle. This data set records the information of suicide victims from 2009 to 2011 in Shandong, China. The local parameter of interest is the difference in proportion of suicide rate between two categories; which are primary and secondary education level. We will also calculate the standard deviation to investigate the sample variation.\n",
    "\n",
    "To get started with our project, we will apply statistical inference to a dataset that was obtained from: https://www.kaggle.com/datasets/utkarshx27/suicide-attempts-in-shandong-china\n",
    "\n",
    "The dataset is downloaded in a comma separated format. It contains 2571 rows of data, with 11 columns in which four are continuous variables (person_id, year, month, and age), and the rest are distinct variables. Several missing values are interpreted with an \"unknown\" label in the dataset. The aspects of education levels include: Iliterate, Primary (Grade 1 - 6), Secondary (Grade 7 - 12), and Tertiary (Bachelor's Degrees, Master's Degrees, and Doctoral Degrees). The following two variables will be considered for use in our inference:\n",
    "\n",
    "* Sex (\"Male\"/\"Female\")\n",
    "* Education (\"Iliterate\"/\"Primary\"/\"Secondary\"/\"Tertiary\")\n",
    "\n",
    "#### Research Question: \n",
    "##### Is there a difference between the proportion of the suicide rates of women and men with primary education level?"
   ]
  },
  {
   "cell_type": "markdown",
   "id": "04053b0d-c976-403e-9074-38cc55f35f09",
   "metadata": {
    "tags": []
   },
   "source": [
    "## Methods and Results"
   ]
  },
  {
   "cell_type": "markdown",
   "id": "c20ea57d",
   "metadata": {},
   "source": [
    "### Reading Our Dataset\n",
    "\n",
    "We can start by importing the necessary libraries for our modelling"
   ]
  },
  {
   "cell_type": "code",
   "execution_count": 22,
   "id": "34c4404b",
   "metadata": {
    "tags": [],
    "vscode": {
     "languageId": "r"
    }
   },
   "outputs": [],
   "source": [
    "library(tidyverse) # For data cleaning, plotting, etc\n",
    "library(knitr)     # For table centering and justify\n",
    "library(infer)     # Calculating simulation-based approaches of inference"
   ]
  },
  {
   "cell_type": "markdown",
   "id": "63c4fbd5",
   "metadata": {},
   "source": [
    "Let's read the chosen csv data with its column names into R "
   ]
  },
  {
   "cell_type": "code",
   "execution_count": 3,
   "id": "e60eca2b",
   "metadata": {
    "tags": [],
    "vscode": {
     "languageId": "r"
    }
   },
   "outputs": [
    {
     "name": "stderr",
     "output_type": "stream",
     "text": [
      "\u001b[1mRows: \u001b[22m\u001b[34m2571\u001b[39m \u001b[1mColumns: \u001b[22m\u001b[34m12\u001b[39m\n",
      "\u001b[36m──\u001b[39m \u001b[1mColumn specification\u001b[22m \u001b[36m────────────────────────────────────────────────────────\u001b[39m\n",
      "\u001b[1mDelimiter:\u001b[22m \",\"\n",
      "\u001b[31mchr\u001b[39m (7): Hospitalised, Died, Urban, Sex, Education, Occupation, method\n",
      "\u001b[32mdbl\u001b[39m (5): Number, Person_ID, Year, Month, Age\n",
      "\n",
      "\u001b[36mℹ\u001b[39m Use `spec()` to retrieve the full column specification for this data.\n",
      "\u001b[36mℹ\u001b[39m Specify the column types or set `show_col_types = FALSE` to quiet this message.\n"
     ]
    },
    {
     "name": "stdout",
     "output_type": "stream",
     "text": [
      "Rows: 2,571\n",
      "Columns: 11\n",
      "$ Person_ID    \u001b[3m\u001b[90m<dbl>\u001b[39m\u001b[23m 1, 2, 3, 4, 5, 6, 7, 8, 9, 10, 11, 12, 13, 14, 15, 16, 17…\n",
      "$ Hospitalised \u001b[3m\u001b[90m<chr>\u001b[39m\u001b[23m \"yes\", \"no\", \"no\", \"no\", \"yes\", \"no\", \"no\", \"yes\", \"no\", …\n",
      "$ Died         \u001b[3m\u001b[90m<chr>\u001b[39m\u001b[23m \"no\", \"yes\", \"yes\", \"yes\", \"no\", \"yes\", \"yes\", \"no\", \"yes…\n",
      "$ Urban        \u001b[3m\u001b[90m<chr>\u001b[39m\u001b[23m \"no\", \"no\", \"no\", \"no\", \"no\", \"no\", \"no\", \"no\", \"no\", \"no…\n",
      "$ Year         \u001b[3m\u001b[90m<dbl>\u001b[39m\u001b[23m 2010, 2009, 2010, 2011, 2009, 2009, 2010, 2010, 2010, 201…\n",
      "$ Month        \u001b[3m\u001b[90m<dbl>\u001b[39m\u001b[23m 12, 3, 2, 1, 8, 11, 1, 10, 7, 1, 11, 3, 6, 1, 12, 2, 6, 5…\n",
      "$ Sex          \u001b[3m\u001b[90m<chr>\u001b[39m\u001b[23m \"female\", \"male\", \"male\", \"male\", \"male\", \"male\", \"female…\n",
      "$ Age          \u001b[3m\u001b[90m<dbl>\u001b[39m\u001b[23m 39, 83, 60, 73, 51, 62, 90, 54, 66, 30, 77, 77, 79, 42, 6…\n",
      "$ Education    \u001b[3m\u001b[90m<chr>\u001b[39m\u001b[23m \"Secondary\", \"Primary\", \"Primary\", \"Primary\", \"Secondary\"…\n",
      "$ Occupation   \u001b[3m\u001b[90m<chr>\u001b[39m\u001b[23m \"household\", \"farming\", \"farming\", \"farming\", \"farming\", …\n",
      "$ method       \u001b[3m\u001b[90m<chr>\u001b[39m\u001b[23m \"Other poison\", \"Hanging\", \"Hanging\", \"Hanging\", \"Pestici…\n"
     ]
    }
   ],
   "source": [
    "suicide_data <- read_csv(\"https://docs.google.com/spreadsheets/d/e/2PACX-1vS0cVcc1RNtcHpY9CnuzkvM_auEuA5HloYBi9MEciadHj4R3uNXNt7ORJwHSJjod85rHzIyigMmVIGy/pub?gid=1118541132&single=true&output=csv\", col_names = TRUE) |>\n",
    "                select(-Number)\n",
    "\n",
    "glimpse(suicide_data)"
   ]
  },
  {
   "cell_type": "markdown",
   "id": "9e6cb3d9",
   "metadata": {},
   "source": [
    "### Cleaning and Wrangling Data Into Tidy Format"
   ]
  },
  {
   "cell_type": "code",
   "execution_count": 4,
   "id": "e83af2b9",
   "metadata": {
    "tags": [],
    "vscode": {
     "languageId": "r"
    }
   },
   "outputs": [],
   "source": [
    "# Check for missing values in our data\n",
    "missing <- filter(suicide_data, Education == \"unknown\") |>\n",
    "           summarize(n = n())\n"
   ]
  },
  {
   "cell_type": "markdown",
   "id": "656c6ee7",
   "metadata": {},
   "source": [
    "<div align=\"center\"> Table 1.1: Amount of Rows with Unknown Value \n",
    "\n",
    "|   n|\n",
    "|---:|\n",
    "| 80 | \n",
    "\n",
    "</div>"
   ]
  },
  {
   "cell_type": "markdown",
   "id": "ae51f6d9",
   "metadata": {},
   "source": [
    "The tibble above shows that 80 rows are found to be having missing values of education."
   ]
  },
  {
   "cell_type": "markdown",
   "id": "34760bb1",
   "metadata": {},
   "source": [
    "Let's select the columns we need and then make sure that we filter out any missing values contained in our data"
   ]
  },
  {
   "cell_type": "code",
   "execution_count": 37,
   "id": "abf06861",
   "metadata": {
    "vscode": {
     "languageId": "r"
    }
   },
   "outputs": [],
   "source": [
    "filtered_data <- suicide_data |>\n",
    "                 select(Sex, Education) |>\n",
    "                 filter(Education != \"unknown\")"
   ]
  },
  {
   "cell_type": "markdown",
   "id": "3b340241",
   "metadata": {},
   "source": [
    "<div align=\"center\"> Table 1.2: Head of Filtered Data\n",
    "\n",
    "<table style='margin-left: auto; margin-right: auto;'>\n",
    " <thead>\n",
    "  <tr>\n",
    "   <th style=\"text-align:center;\"> Sex </th>\n",
    "   <th style=\"text-align:center;\"> Education </th>\n",
    "  </tr>\n",
    " </thead>\n",
    "<tbody>\n",
    "  <tr>\n",
    "   <td style=\"text-align:center;\"> female </td>\n",
    "   <td style=\"text-align:center;\"> Secondary </td>\n",
    "  </tr>\n",
    "  <tr>\n",
    "   <td style=\"text-align:center;\"> male </td>\n",
    "   <td style=\"text-align:center;\"> Primary </td>\n",
    "  </tr>\n",
    "  <tr>\n",
    "   <td style=\"text-align:center;\"> male </td>\n",
    "   <td style=\"text-align:center;\"> Primary </td>\n",
    "  </tr>\n",
    "  <tr>\n",
    "   <td style=\"text-align:center;\"> male </td>\n",
    "   <td style=\"text-align:center;\"> Primary </td>\n",
    "  </tr>\n",
    "  <tr>\n",
    "   <td style=\"text-align:center;\"> male </td>\n",
    "   <td style=\"text-align:center;\"> Secondary </td>\n",
    "  </tr>\n",
    "  <tr>\n",
    "   <td style=\"text-align:center;\"> male </td>\n",
    "   <td style=\"text-align:center;\"> Iliterate </td>\n",
    "  </tr>\n",
    "</tbody>\n",
    "</table>\n",
    "\n",
    "</div>"
   ]
  },
  {
   "cell_type": "markdown",
   "id": "4eabfb6f-5bd5-4d46-9c66-a5266f9c808a",
   "metadata": {
    "tags": []
   },
   "source": [
    "### Visualizing the Data"
   ]
  },
  {
   "cell_type": "markdown",
   "id": "83700e40",
   "metadata": {},
   "source": [
    "Now let's visualize the data that we got!"
   ]
  },
  {
   "cell_type": "code",
   "execution_count": 6,
   "id": "e0495887",
   "metadata": {
    "vscode": {
     "languageId": "r"
    }
   },
   "outputs": [
    {
     "data": {
      "image/png": "[encoded data removed]",
      "text/plain": [
       "plot without title"
      ]
     },
     "metadata": {
      "image/png": {
       "height": 300,
       "width": 360
      }
     },
     "output_type": "display_data"
    }
   ],
   "source": [
    "options(repr.plot.width = 6, repr.plot.height = 5)\n",
    "\n",
    "bar_plot <- filtered_data |>\n",
    "            ggplot(aes(x = Sex, y = 1, fill = Education)) + \n",
    "            geom_bar(stat = \"identity\", position = \"stack\") + \n",
    "            xlab(\"Gender\") +\n",
    "            ylab(\"Number of suicide attempts\") +\n",
    "            labs(fill = \"Education level\") +\n",
    "            ggtitle(\"Figure 1.1: Number of Suicide Attempts Across All Education Levels in Two Different Genders in Shandong\") +\n",
    "            theme(text = element_text(size = 6)) +\n",
    "            scale_fill_brewer(palette = 'Spectral')\n",
    "bar_plot"
   ]
  },
  {
   "cell_type": "markdown",
   "id": "7d5a0b18",
   "metadata": {},
   "source": [
    "Since students with primary education are our parameters of interest, we will narrow our findings down and select just students with primary education as a part of our research."
   ]
  },
  {
   "cell_type": "markdown",
   "id": "c0c433a8-c6ce-4e2d-83c5-5358fc9dc37a",
   "metadata": {
    "tags": []
   },
   "source": [
    "### Computing Estimates"
   ]
  },
  {
   "cell_type": "code",
   "execution_count": 39,
   "id": "0bd757e1",
   "metadata": {
    "tags": [],
    "vscode": {
     "languageId": "r"
    }
   },
   "outputs": [],
   "source": [
    "prop_table <- filtered_data |>\n",
    "              filter(Education == \"Primary\") |>\n",
    "              summarize(Education = \"Primary\", n = n(),\n",
    "              prop_male = sum(Sex == \"male\")/n,\n",
    "              prop_female = sum(Sex == \"female\")/n, \n",
    "              total_prop = prop_male + prop_female) "
   ]
  },
  {
   "cell_type": "markdown",
   "metadata": {},
   "source": [
    "<div align=\"center\"> Table 1.2: Head of Filtered Data\n",
    "<table>\n",
    " <thead>\n",
    "  <tr>\n",
    "   <th style=\"text-align:left;\"> Education </th>\n",
    "   <th style=\"text-align:right;\"> n </th>\n",
    "   <th style=\"text-align:right;\"> prop_male </th>\n",
    "   <th style=\"text-align:right;\"> prop_female </th>\n",
    "   <th style=\"text-align:right;\"> total_prop </th>\n",
    "  </tr>\n",
    " </thead>\n",
    "<tbody>\n",
    "  <tr>\n",
    "   <td style=\"text-align:left;\"> Primary </td>\n",
    "   <td style=\"text-align:right;\"> 659 </td>\n",
    "   <td style=\"text-align:right;\"> 0.5235205 </td>\n",
    "   <td style=\"text-align:right;\"> 0.4764795 </td>\n",
    "   <td style=\"text-align:right;\"> 1 </td>\n",
    "  </tr>\n",
    "</tbody>\n",
    "</table>"
   ]
  },
  {
   "cell_type": "markdown",
   "id": "54b9747e",
   "metadata": {},
   "source": [
    "Let's create a visual representation of the above statistics to show a clear comparison!"
   ]
  },
  {
   "cell_type": "code",
   "execution_count": 8,
   "id": "c54dfb22",
   "metadata": {
    "tags": [],
    "vscode": {
     "languageId": "r"
    }
   },
   "outputs": [
    {
     "data": {
      "image/png": "[encoded data removed]",
      "text/plain": [
       "plot without title"
      ]
     },
     "metadata": {
      "image/png": {
       "height": 300,
       "width": 360
      }
     },
     "output_type": "display_data"
    }
   ],
   "source": [
    "# Create a data frame for male and female proportions\n",
    "gender_props <- data.frame(\n",
    "  Gender = c(\"Male\", \"Female\"),\n",
    "  Proportion = c(prop_table$prop_male, prop_table$prop_female)\n",
    ")\n",
    "\n",
    "# Plotting the pie chart using ggplot2\n",
    "options(repr.plot.width = 6, repr.plot.height = 5)\n",
    "props_chart <- ggplot(gender_props, aes(x = \"\", y = Proportion, fill = Gender)) +\n",
    "  \t\t\t   geom_bar(stat = \"identity\", width = 1, color = \"white\") +\n",
    "  \t\t\t   coord_polar(\"y\") +\n",
    "  \t\t\t   theme_void() +\n",
    "  \t\t\t   ggtitle(\"Figure 1.2: Suicide Proportions of Students with Primary Education Level\") +\n",
    "  \t\t\t   scale_fill_manual(values = c(\"pink\", \"lightblue\")) +\n",
    "   \t\t\t   geom_text(aes(label = sprintf(\"%1.1f%%\", Proportion * 100)), position = position_stack(vjust = 0.5), size = 4)\n",
    "props_chart"
   ]
  },
  {
   "cell_type": "markdown",
   "id": "9434f16f",
   "metadata": {},
   "source": [
    "From the sample that we had, it appears that men with primary education have a higher proportion of suicide attempts (52.4%) than women with primary education (47.6%) in Shandong, China."
   ]
  },
  {
   "cell_type": "markdown",
   "metadata": {},
   "source": [
    "### Hypothesis Testing: Comparing the Proportions of Two Independent Populations (Two-Sample Z-Test)"
   ]
  },
  {
   "cell_type": "markdown",
   "metadata": {},
   "source": [
    "In this report we will produce two ways of checking our final statistic. Since we have seen that males has a higher percentage of committing suicide from the proportions from our sample data, we can alternatively hypothesize that the proportion of male will be higher than that of female with primary education level. Thus, our hypotheses are as such: \n",
    "* Null hypothesis: $\\widehat{p_{male}} - \\widehat{p_{female}} = 0$\n",
    "\n",
    "* Alternative hypothesis: $\\widehat{p_{male}} - \\widehat{p_{female}} > 0$\n",
    "\n",
    "A confidence interval of 95% will be used to estimate the true population parameter. We are using the percentile method to calculate the confidence interval and we will do this by computing the 2.5th and 97.5th percentiles."
   ]
  },
  {
   "cell_type": "markdown",
   "metadata": {},
   "source": [
    "1) #### Theory-Based Methods: P-Value"
   ]
  },
  {
   "cell_type": "markdown",
   "metadata": {},
   "source": [
    "We will first perform an asymptotics hypothesis test to obtain the p-value."
   ]
  },
  {
   "cell_type": "markdown",
   "metadata": {},
   "source": [
    "To test for $H_0$, we use the following test statistic:\n",
    "\n",
    "$$\n",
    "Z = \\frac{\\hat{p}_1 - \\hat{p}_2}{\\sqrt{\\hat{p}(1-\\hat{p})\\left(\\frac{1}{n_1} + \\frac{1}{n_2}\\right)}}\n",
    "$$\n",
    "where $\\hat{p}_1$ and $\\hat{p}_2$ are the sample proportions in samples 1 and 2, respectively; $n$ is the sample size; and $\\hat{p}$ is the pooled proportion, given by: \n",
    "\n",
    "$$\\hat{p} = \\frac{n_1\\hat{p}_1+n_2\\hat{p}_2}{n_1+n_2}$$\n",
    "\n",
    "<b> (From Worksheet 8 Section 3.4) </b>"
   ]
  },
  {
   "cell_type": "markdown",
   "metadata": {},
   "source": [
    "Let's calculate the test statistic!"
   ]
  },
  {
   "cell_type": "code",
   "execution_count": 56,
   "metadata": {
    "vscode": {
     "languageId": "r"
    }
   },
   "outputs": [
    {
     "data": {
      "text/html": [
       "2.47921982142338"
      ],
      "text/latex": [
       "2.47921982142338"
      ],
      "text/markdown": [
       "2.47921982142338"
      ],
      "text/plain": [
       "[1] 2.47922"
      ]
     },
     "metadata": {},
     "output_type": "display_data"
    }
   ],
   "source": [
    "# Calculate the test statistic. Consider the male with a primary education level as sample 1.\n",
    "p_hat_1 <- mean(filtered_data[filtered_data$Sex == \"male\", \"Education\"] == \"Primary\")\n",
    "p_hat_2 <- mean(filtered_data[filtered_data$Sex == \"female\", \"Education\"] == \"Primary\")\n",
    "n1 <- sum(filtered_data$Sex == \"male\")\n",
    "n2 <- sum(filtered_data$Sex == \"female\")\n",
    "p_hat <- (n1 * p_hat_1 + n2 * p_hat_2) / (n1 + n2)\n",
    "\n",
    "test_statistic <- (p_hat_1 - p_hat_2) / (p_hat * (1 - p_hat) * (1/n1 + 1/n2))^0.5\n",
    "test_statistic"
   ]
  },
  {
   "cell_type": "markdown",
   "metadata": {},
   "source": [
    "Now let's use our test statistic to calculate our one-tailed test for our P-value:"
   ]
  },
  {
   "cell_type": "code",
   "execution_count": 57,
   "metadata": {
    "vscode": {
     "languageId": "r"
    }
   },
   "outputs": [
    {
     "data": {
      "text/html": [
       "0.00658350652054121"
      ],
      "text/latex": [
       "0.00658350652054121"
      ],
      "text/markdown": [
       "0.00658350652054121"
      ],
      "text/plain": [
       "[1] 0.006583507"
      ]
     },
     "metadata": {},
     "output_type": "display_data"
    }
   ],
   "source": [
    "# Calculate the p-value.\n",
    "p_value <- pnorm(test_statistic,lower.tail = FALSE)\n",
    "p_value"
   ]
  },
  {
   "cell_type": "markdown",
   "metadata": {},
   "source": [
    "The computed p-value is 0.0065835 which is smaller than the chosen significance level (0.05). Hence, this suggests that we can reject our null hypothesis."
   ]
  },
  {
   "cell_type": "markdown",
   "metadata": {},
   "source": [
    "2) #### Theory-Based Methods: Confidence Interval"
   ]
  },
  {
   "cell_type": "markdown",
   "metadata": {},
   "source": [
    "Now let's calculate our confidence intervals for our data!\n",
    "\n",
    "<b> (From Tutorial 7 Question 4) </b>"
   ]
  },
  {
   "cell_type": "code",
   "execution_count": 58,
   "metadata": {
    "vscode": {
     "languageId": "r"
    }
   },
   "outputs": [
    {
     "name": "stderr",
     "output_type": "stream",
     "text": [
      "\u001b[1m\u001b[22m`summarise()` has grouped output by 'Sex'. You can override using the `.groups`\n",
      "argument.\n"
     ]
    }
   ],
   "source": [
    "p_male <- mean(filtered_data[filtered_data$Sex == \"male\", \"Education\"] == \"Primary\")\n",
    "p_female <- mean(filtered_data[filtered_data$Sex == \"female\", \"Education\"] == \"Primary\")\n",
    "n_male <- sum(filtered_data$Sex == \"male\")\n",
    "n_female <- sum(filtered_data$Sex == \"female\")\n",
    "\n",
    "p_summary <- filtered_data %>% \n",
    "             group_by(Sex, Education) %>% \n",
    "             summarise(p = n()) %>% \n",
    "             group_by(Sex) %>% \n",
    "             mutate(n = sum(p), p = p / sum(p)) %>% \n",
    "             filter(Education == 'Primary') %>% \n",
    "             select(-Education) %>% \n",
    "             pivot_wider(names_from = Sex, values_from = c(n,p)) %>%\n",
    "             mutate(p_diff = p_male - p_female,\n",
    "                    p_diff_std_error = sqrt(p_male*(1-p_male)/n_male + p_female*(1-p_female)/n_female),\n",
    "\t\t\t\t\tlower_ci = qnorm(0.025, p_diff, p_diff_std_error),\n",
    "                    upper_ci = qnorm(0.975, p_diff, p_diff_std_error))"
   ]
  },
  {
   "cell_type": "markdown",
   "metadata": {},
   "source": [
    "<div align=\"center\"> Table 1.3: 95% Confidence Interval Obtained by CLT\n",
    "<table>\n",
    " <thead>\n",
    "  <tr>\n",
    "   <th style=\"text-align:right;\"> n_female </th>\n",
    "   <th style=\"text-align:right;\"> n_male </th>\n",
    "   <th style=\"text-align:right;\"> p_female </th>\n",
    "   <th style=\"text-align:right;\"> p_male </th>\n",
    "   <th style=\"text-align:right;\"> p_diff </th>\n",
    "   <th style=\"text-align:right;\"> p_diff_std_error </th>\n",
    "   <th style=\"text-align:right;\"> lower_ci </th>\n",
    "   <th style=\"text-align:right;\"> upper_ci </th>\n",
    "  </tr>\n",
    " </thead>\n",
    "<tbody>\n",
    "  <tr>\n",
    "   <td style=\"text-align:right;\"> 1290 </td>\n",
    "   <td style=\"text-align:right;\"> 1201 </td>\n",
    "   <td style=\"text-align:right;\"> 0.2434109 </td>\n",
    "   <td style=\"text-align:right;\"> 0.2872606 </td>\n",
    "   <td style=\"text-align:right;\"> 0.0438498 </td>\n",
    "   <td style=\"text-align:right;\"> 0.0176985 </td>\n",
    "   <td style=\"text-align:right;\"> 0.0091613 </td>\n",
    "   <td style=\"text-align:right;\"> 0.0785382 </td>\n",
    "  </tr>\n",
    "</tbody>\n",
    "</table>"
   ]
  },
  {
   "cell_type": "markdown",
   "metadata": {},
   "source": [
    "From asymptotics calculation, we are 95% confident that the true difference in proportion between male and female lies in the interval: [0.009161309, 0.07853822]."
   ]
  },
  {
   "cell_type": "markdown",
   "metadata": {},
   "source": [
    "3) #### Simulation-Based Methods: P-Value"
   ]
  },
  {
   "cell_type": "markdown",
   "metadata": {},
   "source": [
    "We will now perform a bootstrapping hypothesis test and compare the result computed from previous method."
   ]
  },
  {
   "cell_type": "markdown",
   "metadata": {},
   "source": [
    "Using the infer library, we can get our test statistic as such:"
   ]
  },
  {
   "cell_type": "code",
   "execution_count": 49,
   "metadata": {
    "vscode": {
     "languageId": "r"
    }
   },
   "outputs": [],
   "source": [
    "# Set our seed to 123\n",
    "set.seed(123)\n",
    "\n",
    "filtered_data_binary_education <- filtered_data\n",
    "filtered_data_binary_education$Education[filtered_data_binary_education$Education != \"Primary\"] <- \"Not Primary\"\n",
    "\n",
    "obs_diff_prop <- filtered_data_binary_education %>% \n",
    "  specify(Education ~ Sex, success = \"Primary\") %>% \n",
    "  calculate(stat = \"diff in props\", order = c(\"male\", \"female\"))"
   ]
  },
  {
   "cell_type": "markdown",
   "metadata": {},
   "source": [
    "<div align=\"center\"> Table 1.4: Difference in suicide proportions between male and female\n",
    "<table>\n",
    " <thead>\n",
    "  <tr>\n",
    "   <th style=\"text-align:right;\"> stat </th>\n",
    "  </tr>\n",
    " </thead>\n",
    "<tbody>\n",
    "  <tr>\n",
    "   <td style=\"text-align:right;\"> 0.0438498 </td>\n",
    "  </tr>\n",
    "</tbody>\n",
    "</table>"
   ]
  },
  {
   "cell_type": "markdown",
   "metadata": {},
   "source": [
    "Then let's calculate our p-value using the infer library:"
   ]
  },
  {
   "cell_type": "code",
   "execution_count": 52,
   "metadata": {
    "vscode": {
     "languageId": "r"
    }
   },
   "outputs": [],
   "source": [
    "pval <- get_p_value(null_distribution, obs_stat = obs_diff_prop, direction = \"right\")"
   ]
  },
  {
   "cell_type": "markdown",
   "metadata": {},
   "source": [
    "<div align=\"center\"> Table 1.5: Simulation-based p-value\n",
    "<table>\n",
    " <thead>\n",
    "  <tr>\n",
    "   <th style=\"text-align:right;\"> p_value </th>\n",
    "  </tr>\n",
    " </thead>\n",
    "<tbody>\n",
    "  <tr>\n",
    "   <td style=\"text-align:right;\"> 0.011 </td>\n",
    "  </tr>\n",
    "</tbody>\n",
    "</table>"
   ]
  },
  {
   "cell_type": "markdown",
   "metadata": {},
   "source": [
    "Now let's visualize our distribution along with our p-value!"
   ]
  },
  {
   "cell_type": "code",
   "execution_count": 53,
   "metadata": {
    "vscode": {
     "languageId": "r"
    }
   },
   "outputs": [
    {
     "data": {
      "image/png": "[encoded data removed]",
      "text/plain": [
       "plot without title"
      ]
     },
     "metadata": {
      "image/png": {
       "height": 300,
       "width": 360
      }
     },
     "output_type": "display_data"
    }
   ],
   "source": [
    "options(repr.plot.width = 6, repr.plot.height = 5)\n",
    "pval_plot <- null_distribution %>% \n",
    "             visualize(bins = 10) + \n",
    "             shade_p_value(obs_stat = obs_diff_prop, direction = \"right\") +\n",
    "\t\t\t theme(text = element_text(size = 8)) +\n",
    "\t\t     ggtitle(\"Figure 1.3: Simulation-Based Null Distribution with P-Value\")\n",
    "pval_plot"
   ]
  },
  {
   "cell_type": "markdown",
   "metadata": {},
   "source": [
    "The computed p-value is 0.011 which is also smaller than the chosen significance level (0.05). Hence, this suggests that we can reject our null hypothesis."
   ]
  },
  {
   "cell_type": "markdown",
   "metadata": {},
   "source": [
    "4) #### Simulation-Based Methods: Confidence Interval"
   ]
  },
  {
   "cell_type": "markdown",
   "metadata": {},
   "source": [
    "We will first create a bootstrap distribution and find our p-value using the infer package."
   ]
  },
  {
   "cell_type": "code",
   "execution_count": 62,
   "metadata": {
    "vscode": {
     "languageId": "r"
    }
   },
   "outputs": [],
   "source": [
    "# Set our seed to 123\n",
    "set.seed(123)\n",
    "bootstrap_dist <- filtered_data_binary_education %>% \n",
    "                  specify(formula = Education ~ Sex, success = \"Primary\") %>% \n",
    "                  generate(reps = 1000, type = \"bootstrap\") %>% \n",
    "                  calculate(stat = \"diff in props\", order = c(\"male\", \"female\"))\n",
    "\n",
    "percentile_ci <- bootstrap_dist %>% \n",
    "                 get_confidence_interval(level = 0.95, type = \"percentile\")"
   ]
  },
  {
   "cell_type": "markdown",
   "metadata": {},
   "source": [
    "<div align=\"center\"> Table 1.6: Simulation-based 95% confidence interval\n",
    "<table>\n",
    " <thead>\n",
    "  <tr>\n",
    "   <th style=\"text-align:right;\"> lower_ci </th>\n",
    "   <th style=\"text-align:right;\"> upper_ci </th>\n",
    "  </tr>\n",
    " </thead>\n",
    "<tbody>\n",
    "  <tr>\n",
    "   <td style=\"text-align:right;\"> 0.01044904 </td>\n",
    "   <td style=\"text-align:right;\"> 0.0786931 </td>\n",
    "  </tr>\n",
    "</tbody>\n",
    "</table>"
   ]
  },
  {
   "cell_type": "markdown",
   "metadata": {},
   "source": [
    "We are 95% confident that the true difference in proportion between males and females lies between the interval: [0.01044904, 0.0786931]."
   ]
  },
  {
   "cell_type": "markdown",
   "metadata": {},
   "source": [
    "Now let's visualize our bootstrap distribution along with our confidence intervals!"
   ]
  },
  {
   "cell_type": "code",
   "execution_count": 46,
   "metadata": {
    "vscode": {
     "languageId": "r"
    }
   },
   "outputs": [
    {
     "data": {
      "image/png": "[encoded data removed]",
      "text/plain": [
       "plot without title"
      ]
     },
     "metadata": {
      "image/png": {
       "height": 300,
       "width": 360
      }
     },
     "output_type": "display_data"
    }
   ],
   "source": [
    "options(repr.plot.width = 6, repr.plot.height = 5)\n",
    "ci_plot <- visualize(bootstrap_dist) + \n",
    "           shade_confidence_interval(endpoints = percentile_ci) +\n",
    "\t\t   theme(text = element_text(size = 8)) +\n",
    "\t\t   ggtitle(\"Figure 1.4: Simulation-Based Bootstrap Distribution with 95% Confidence Level\")\n",
    "ci_plot"
   ]
  },
  {
   "cell_type": "markdown",
   "metadata": {},
   "source": [
    "### Asymptotic vs Bootstrapping: Which One's Better?"
   ]
  },
  {
   "cell_type": "markdown",
   "metadata": {},
   "source": [
    "After conducting both methods for hypothesis tests and confidence intervals, we found that the p-value obtained using the simulation-based method is higher than the value calculated with asymptotics. On the other hand, the confidence interval values show relatively similar values of lower and upper limits."
   ]
  },
  {
   "cell_type": "markdown",
   "id": "1313ee87-b509-4d5b-b422-8769c4252d9f",
   "metadata": {},
   "source": [
    "## Discussion"
   ]
  },
  {
   "cell_type": "markdown",
   "id": "38882f96",
   "metadata": {},
   "source": [
    "* Summarize what you found, and the implications/impact of your findings.\n",
    "* Discuss whether your results were what you expected to find.\n",
    "* Discuss future questions/research this study could lead to."
   ]
  },
  {
   "cell_type": "markdown",
   "id": "c3a910fe-fea9-4bcd-b5ab-aa5bc25d1d1e",
   "metadata": {},
   "source": [
    "## References"
   ]
  },
  {
   "cell_type": "markdown",
   "id": "b434a8a1-c51f-4ed7-9bf3-87dbd7dd0564",
   "metadata": {
    "tags": [],
    "vscode": {
     "languageId": "r"
    }
   },
   "source": [
    "Heather Saunders and Nirmita Panchal. (2023, August 21). A look at the latest suicide data and change over the last decade. *KFF*. https://www.kff.org/mental-health/issue-brief/a-look-at-the-latest-suicide-data-and-change-over-the-last-decade/\n",
    "\n",
    "Phillips, J. A., & Hempstead, K. (2017). Differences in U.S. suicide rates by educational attainment, 2000–2014. *American Journal of Preventive Medicine, 53(4)*. https://doi.org/10.1016/j.amepre.2017.04.010\n",
    "\n",
    "Scholaro Database. (2023). Education system in China. *China Education System. (n.d.)*. https://www.scholaro.com/db/Countries/China/Education-System\n",
    "\n",
    "Singh, U. (2023, May 6). *Suicide attempts in Shandong, China*. Kaggle. https://www.kaggle.com/datasets/utkarshx27/suicide-attempts-in-shandong-china"
   ]
  }
 ],
 "metadata": {
  "kernelspec": {
   "display_name": "R",
   "language": "R",
   "name": "ir"
  },
  "language_info": {
   "codemirror_mode": "r",
   "file_extension": ".r",
   "mimetype": "text/x-r-source",
   "name": "R",
   "pygments_lexer": "r",
   "version": "4.2.2"
  }
 },
 "nbformat": 4,
 "nbformat_minor": 5
}
